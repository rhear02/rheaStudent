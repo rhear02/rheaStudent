{
 "cells": [
  {
   "cell_type": "markdown",
   "metadata": {},
   "source": [
    "Change I will make from listening to panel:\n",
    "\n",
    "- focus more on planning/organization \n",
    "ex: flowcharts\n",
    "- understand how to fully navigate github\n",
    "- do some research on what resources and opportunities each college provides for my major"
   ]
  }
 ],
 "metadata": {
  "language_info": {
   "name": "python"
  }
 },
 "nbformat": 4,
 "nbformat_minor": 2
}
