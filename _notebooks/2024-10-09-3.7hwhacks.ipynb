{
 "cells": [
  {
   "cell_type": "markdown",
   "metadata": {},
   "source": [
    "---\n",
    "layout: post\n",
    "title: 3.7 HW Hacks\n",
    "toc: true\n",
    "comments: true\n",
    "---"
   ]
  },
  {
   "cell_type": "markdown",
   "metadata": {},
   "source": [
    "Rhea Rajashekhar P4 Popcorn Hacks 3.7"
   ]
  },
  {
   "cell_type": "code",
   "execution_count": null,
   "metadata": {},
   "outputs": [],
   "source": [
    "weather = \"sunny\"\n",
    "transportation = \"available\"\n",
    "boots = \"not present\"\n",
    "water = \"brought\"  # New Variable\n",
    "sunscreen = \"applied\"  # New Variable\n",
    "\n",
    "print(\"The weather is \" + weather)\n",
    "print(\"Your transportation is \" + transportation)\n",
    "print(\"Your boots are \" + boots)\n",
    "print(\"Your water is \" + water)\n",
    "print(\"Your sunscreen is \" + sunscreen)\n",
    "\n",
    "if weather == \"sunny\":\n",
    "    if transportation == \"available\":\n",
    "        if boots == \"present\":\n",
    "            if water == \"brought\" and sunscreen == \"applied\":  # New Conditionals\n",
    "                print(\"You are fully ready to go hiking!\")\n",
    "            else:\n",
    "                print(\"Make sure to bring water and apply sunscreen.\")\n",
    "        else:\n",
    "            print(\"You need to find your boots first.\")\n",
    "    else:\n",
    "        print(\"You need to arrange transportation.\")\n",
    "else:\n",
    "    print(\"It's not good weather for hiking.\")"
   ]
  },
  {
   "cell_type": "code",
   "execution_count": null,
   "metadata": {},
   "outputs": [],
   "source": [
    "Python homework hack 1\n",
    "weather = \"sunny\"  # Can be \"sunny\" or something else\n",
    "sunscreen = \"have\"  # Can be \"have\" or \"not have\"\n",
    "snacks = \"enough\"  # Can be \"enough\" or \"not enough\"\n",
    "\n",
    "if weather == \"sunny\":\n",
    "    if sunscreen == \"have\":\n",
    "        if snacks == \"enough\":\n",
    "            print(\"You are ready for the beach!\")\n",
    "        else:\n",
    "            print(\"You need to get more snacks first.\")\n",
    "    else:\n",
    "        print(\"You need to buy sunscreen.\")\n",
    "else:\n",
    "    print(\"It's not a good day for the beach.\")\n"
   ]
  },
  {
   "cell_type": "code",
   "execution_count": null,
   "metadata": {},
   "outputs": [],
   "source": [
    "python homework hack 2\n",
    "at_least_18_yrs_old = True\n",
    "at_least_50_sqr_ft = True\n",
    "possible_pet_care = True\n",
    "\n",
    "if at_least_18_yrs_old:\n",
    "    if at_least_50_sqr_ft:\n",
    "        if possible_pet_care:\n",
    "            print(\"You can adopt a pet!\")\n",
    "        else:\n",
    "            print(\"You must be able to make time for the pet.\")\n",
    "    else:\n",
    "        print(\"You must have a bigger home.\")\n",
    "else:\n",
    "    print(\"You must be 18 to adopt a pet.\")"
   ]
  },
  {
   "cell_type": "code",
   "execution_count": null,
   "metadata": {},
   "outputs": [],
   "source": [
    "# python homework hack 3\n",
    "weather_clear = True\n",
    "have_running_shoes = True\n",
    "ten_days_of_practice = True\n",
    "\n",
    "if weather_clear:\n",
    "    if have_running_shoes:\n",
    "        if ten_days_of_practice:\n",
    "            print(\"You are ready for the marathon.\")\n",
    "        else:\n",
    "            print(\"You need to practice more.\")\n",
    "    else:\n",
    "        print(\"You need to buy running shoes.\")\n",
    "else:\n",
    "    print(\"It is not the right time for a marathon.\")"
   ]
  },
  {
   "cell_type": "code",
   "execution_count": null,
   "metadata": {
    "vscode": {
     "languageId": "javascript"
    }
   },
   "outputs": [],
   "source": [
    "%% js \n",
    "// popcorn hack 1\n",
    "let weather = \"sunny\";\n",
    "let transportation = \"available\";\n",
    "let boots = \"not present\";\n",
    "let water = \"brought\";  // New condition\n",
    "let sunscreen = \"applied\";  // New condition\n",
    "\n",
    "console.log(\"The weather is \" + weather);\n",
    "console.log(\"Your transportation is \" + transportation);\n",
    "console.log(\"Your boots are \" + boots);\n",
    "console.log(\"Your water is \" + water);\n",
    "console.log(\"Your sunscreen is \" + sunscreen);\n",
    "\n",
    "if (weather === \"sunny\") {\n",
    "    if (transportation === \"available\") {\n",
    "        if (boots === \"present\") {\n",
    "            if (water === \"brought\" && sunscreen === \"applied\") {\n",
    "                console.log(\"You are fully ready to go hiking!\");\n",
    "            } else {\n",
    "                console.log(\"Make sure to bring water and apply sunscreen.\");\n",
    "            }\n",
    "        } else {\n",
    "            console.log(\"You need to find your boots first.\");\n",
    "        }\n",
    "    } else {\n",
    "        console.log(\"You need to arrange transportation.\");\n",
    "    }\n",
    "} else {\n",
    "    console.log(\"It's not good weather for hiking.\");\n",
    "}"
   ]
  },
  {
   "cell_type": "code",
   "execution_count": null,
   "metadata": {
    "vscode": {
     "languageId": "javascript"
    }
   },
   "outputs": [],
   "source": [
    "%% js \n",
    "// popcorn hack 2\n",
    "let living_room_available = true;\n",
    "let projector_working = true;  // Changed from false to true\n",
    "let enough_snacks = false;  // Changed from true to false\n",
    "\n",
    "if (living_room_available) {\n",
    "    if (projector_working) {\n",
    "        if (enough_snacks) {\n",
    "            console.log(\"You're ready to host the movie night!\");\n",
    "        } else {\n",
    "            console.log(\"You need to get more snacks. Ideas: Popcorn, Candy, Soda\");\n",
    "        }\n",
    "    } else {\n",
    "        console.log(\"You need to fix or replace the projector.\");\n",
    "    }\n",
    "} else {\n",
    "    console.log(\"The living room is not available for the movie night. Find another room!\");\n",
    "}"
   ]
  },
  {
   "cell_type": "code",
   "execution_count": null,
   "metadata": {
    "vscode": {
     "languageId": "javascript"
    }
   },
   "outputs": [],
   "source": [
    "%% js \n",
    "// homework hack 1\n",
    "let hasMaterials = true;\n",
    "let quietPlace = true;\n",
    "let isTired = false;\n",
    "\n",
    "if (hasMaterials) {\n",
    "    if (quietPlace) {\n",
    "        if (!isTired) {\n",
    "            console.log(\"You are ready to study!\");\n",
    "        } else {\n",
    "            console.log(\"You should take a nap or rest before studying.\");\n",
    "        }\n",
    "    } else {\n",
    "        console.log(\"You need to find a quiet place to study.\");\n",
    "    }\n",
    "} else {\n",
    "    console.log(\"You need to gather your study materials first.\");\n",
    "}\n"
   ]
  },
  {
   "cell_type": "code",
   "execution_count": null,
   "metadata": {
    "vscode": {
     "languageId": "javascript"
    }
   },
   "outputs": [],
   "source": [
    "%% js \n",
    "// homework hack 2\n",
    "let hasFlour = true;\n",
    "let hasEggs = true;\n",
    "let hasSugar = false;\n",
    "let ovenWorking = true;\n",
    "let timeAvailable = 2.5;\n",
    "\n",
    "if (hasFlour && hasEggs && hasSugar) {\n",
    "    if (ovenWorking) {\n",
    "        if (timeAvailable >= 2) {\n",
    "            console.log(\"You can start baking the cake!\");\n",
    "        } else {\n",
    "            console.log(\"You need to find more time to bake and cool the cake.\");\n",
    "        }\n",
    "    } else {\n",
    "        console.log(\"You need to fix or replace the oven.\");\n",
    "    }\n",
    "} else {\n",
    "    let missingIngredients = [];\n",
    "    if (!hasFlour) missingIngredients.push(\"flour\");\n",
    "    if (!hasEggs) missingIngredients.push(\"eggs\");\n",
    "    if (!hasSugar) missingIngredients.push(\"sugar\");\n",
    "    \n",
    "    console.log(\"You are missing the following ingredients: \" + missingIngredients.join(\", \"));\n",
    "}"
   ]
  },
  {
   "cell_type": "code",
   "execution_count": null,
   "metadata": {
    "vscode": {
     "languageId": "javascript"
    }
   },
   "outputs": [],
   "source": [
    "%% js \n",
    "// homework hack 3\n",
    "let weather = \"clear\";\n",
    "let hasTent = true;\n",
    "let enoughFoodAndWater = false;\n",
    "\n",
    "if (weather === \"clear\") {\n",
    "    if (hasTent) {\n",
    "        if (enoughFoodAndWater) {\n",
    "            console.log(\"You are ready to go camping!\");\n",
    "        } else {\n",
    "            console.log(\"You need to pack more food and water.\");\n",
    "        }\n",
    "    } else {\n",
    "        console.log(\"You need to buy or borrow a tent.\");\n",
    "    }\n",
    "} else {\n",
    "    console.log(\"It's not a good time for camping due to the weather.\");\n",
    "}"
   ]
  }
 ],
 "metadata": {
  "language_info": {
   "name": "python"
  }
 },
 "nbformat": 4,
 "nbformat_minor": 2
}
