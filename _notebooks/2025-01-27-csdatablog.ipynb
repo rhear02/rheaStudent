{
 "cells": [
  {
   "cell_type": "markdown",
   "metadata": {},
   "source": [
    "---\n",
    "toc: true\n",
    "comments: false\n",
    "layout: post\n",
    "type: ccc\n",
    "permalink: /datablog\n",
    "---"
   ]
  },
  {
   "cell_type": "markdown",
   "metadata": {},
   "source": [
    "<span style=\"font-size: 50px;\">**CS Data Blog**</span>"
   ]
  },
  {
   "cell_type": "markdown",
   "metadata": {},
   "source": [
    "groups program: To Bring together users with similar musical preferences to foster a community and encourage meaningful connections through shared musical interests.\n",
    "\n",
    "<img alt= \"image1\" src= \"/rheaStudent/images/1.png\" width=\"400\" height=\"500\" class=\"spaced-img\">"
   ]
  },
  {
   "cell_type": "markdown",
   "metadata": {},
   "source": [
    "Individual feature: My chatroom allows users to send and view messages dynamically, with each message displaying the user's ID and message content\n",
    "\n",
    "<img alt= \"image2\" src= \"/rheaStudent/images/2.png\" width=\"400\" height=\"450\" class=\"spaced-img\">"
   ]
  },
  {
   "cell_type": "markdown",
   "metadata": {},
   "source": [
    "<span style=\"font-size: 30px;\">**List Requests**</span>"
   ]
  },
  {
   "cell_type": "markdown",
   "metadata": {},
   "source": [
    "Dictionary converted into JSON\n",
    "\n",
    "get_all_chats() extracts all chat rows from the database, processes them into a list of dictionaries using chat.read(), and returns the result as JSON\n",
    "\n",
    "<img alt= \"image3\" src= \"/rheaStudent/images/3.png\" width=\"600\" height=\"300\" class=\"spaced-img\">"
   ]
  },
  {
   "cell_type": "markdown",
   "metadata": {},
   "source": [
    "read method in the MusicChat class converts database columns into a dictionary format for individual rows\n",
    "\n",
    "<img alt= \"image4\" src= \"/rheaStudent/images/4.png\" width=\"600\" height=\"300\" class=\"spaced-img\">"
   ]
  },
  {
   "cell_type": "markdown",
   "metadata": {},
   "source": [
    "Fetched JSON into DOM and JS to display in a structured format\n",
    "\n",
    "<img alt= \"image5\" src= \"/rheaStudent/images/5.png\" width=\"450\" height=\"300\" class=\"spaced-img\">"
   ]
  },
  {
   "cell_type": "markdown",
   "metadata": {},
   "source": [
    "Query from database which retrieves all rows from MusicChat table and converts them into a Python list of objects\n",
    "\n",
    "<img alt= \"image6\" src= \"/rheaStudent/images/6.png\" width=\"500\" height=\"100\" class=\"spaced-img\">"
   ]
  },
  {
   "cell_type": "markdown",
   "metadata": {},
   "source": [
    "query filtering by User id \n",
    "\n",
    "<img alt= \"image7\" src= \"/rheaStudent/images/7.png\" width=\"500\" height=\"100\" class=\"spaced-img\">"
   ]
  },
  {
   "cell_type": "markdown",
   "metadata": {
    "vscode": {
     "languageId": "plaintext"
    }
   },
   "source": [
    "MusicChat class methods to handle database columns\n",
    "\n",
    "<img alt= \"image8\" src= \"/rheaStudent/images/8.png\" width=\"600\" height=\"400\" class=\"spaced-img\">"
   ]
  },
  {
   "cell_type": "markdown",
   "metadata": {},
   "source": [
    "<img alt= \"image22\" src= \"/rheaStudent/images/22.png\" width=\"400\" height=\"100\" class=\"spaced-img\">"
   ]
  },
  {
   "cell_type": "markdown",
   "metadata": {},
   "source": [
    "<img alt= \"image23\" src= \"/rheaStudent/images/23.png\" width=\"500\" height=\"150\" class=\"spaced-img\">"
   ]
  },
  {
   "cell_type": "markdown",
   "metadata": {},
   "source": [
    "<img alt= \"image9\" src= \"/rheaStudent/images/9.png\" width=\"600\" height=\"200\" class=\"spaced-img\">"
   ]
  },
  {
   "cell_type": "markdown",
   "metadata": {},
   "source": [
    "<img alt= \"image10\" src= \"/rheaStudent/images/10.png\" width=\"600\" height=\"200\" class=\"spaced-img\">"
   ]
  },
  {
   "cell_type": "markdown",
   "metadata": {},
   "source": [
    "<span style=\"font-size: 30px;\">**Alogithmic code request**</span>"
   ]
  },
  {
   "cell_type": "markdown",
   "metadata": {},
   "source": [
    "Get, post, put, delete methods in MusicChat class\n",
    "\n",
    "<img alt= \"image24\" src= \"/rheaStudent/images/24.png\" width=\"500\" height=\"250\" class=\"spaced-img\">\n",
    "\n",
    "<img alt= \"image25\" src= \"/rheaStudent/images/25.png\" width=\"500\" height=\"250\" class=\"spaced-img\">\n",
    "\n",
    "<img alt= \"image26\" src= \"/rheaStudent/images/26.png\" width=\"500\" height=\"250\" class=\"spaced-img\">\n",
    "\n",
    "<img alt= \"image27\" src= \"/rheaStudent/images/27.png\" width=\"500\" height=\"250\" class=\"spaced-img\">"
   ]
  },
  {
   "cell_type": "markdown",
   "metadata": {},
   "source": [
    "Sequencing, selection, and iteration\n",
    "\n",
    "<img alt= \"image11\" src= \"/rheaStudent/images/11.png\" width=\"600\" height=\"200\" class=\"spaced-img\">"
   ]
  },
  {
   "cell_type": "markdown",
   "metadata": {},
   "source": [
    "Parameters sent in JSON (message, user uid), return response in JSON with requested info or error message\n",
    "\n",
    "<img alt= \"image12\" src= \"/rheaStudent/images/12.png\" width=\"500\" height=\"300\" class=\"spaced-img\">"
   ]
  },
  {
   "cell_type": "markdown",
   "metadata": {},
   "source": [
    "<span style=\"font-size: 30px;\">**Call to Algorithm Request**</span>"
   ]
  },
  {
   "cell_type": "markdown",
   "metadata": {},
   "source": [
    "Fetch to endpoint\n",
    "\n",
    "<img alt= \"image13\" src= \"/rheaStudent/images/13.png\" width=\"500\" height=\"150\" class=\"spaced-img\">"
   ]
  },
  {
   "cell_type": "markdown",
   "metadata": {},
   "source": [
    "Response to fetch & Normal Condition Response\n",
    "\n",
    "<img alt= \"image14\" src= \"/rheaStudent/images/14.png\" width=\"500\" height=\"300\" class=\"spaced-img\">"
   ]
  },
  {
   "cell_type": "markdown",
   "metadata": {},
   "source": [
    "Data handled into a list like structure\n",
    "\n",
    "<img alt= \"image15\" src= \"/rheaStudent/images/15.png\" width=\"500\" height=\"350\" class=\"spaced-img\">"
   ]
  },
  {
   "cell_type": "markdown",
   "metadata": {},
   "source": [
    "Error condition Response\n",
    "\n",
    "<img alt= \"image21\" src= \"/rheaStudent/images/21.png\" width=\"500\" height=\"350\" class=\"spaced-img\">"
   ]
  }
 ],
 "metadata": {
  "language_info": {
   "name": "python"
  }
 },
 "nbformat": 4,
 "nbformat_minor": 2
}
