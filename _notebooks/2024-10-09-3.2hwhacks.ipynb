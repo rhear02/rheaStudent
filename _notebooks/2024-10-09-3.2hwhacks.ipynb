{
 "cells": [
  {
   "cell_type": "markdown",
   "metadata": {},
   "source": [
    "---\n",
    "layout: post\n",
    "title: 3.2 HW Hacks\n",
    "toc: true\n",
    "comments: true\n",
    "---"
   ]
  },
  {
   "cell_type": "markdown",
   "metadata": {},
   "source": [
    "Rhea Rajashekhar P4 Popcorn Hacks 3.2"
   ]
  },
  {
   "cell_type": "code",
   "execution_count": null,
   "metadata": {},
   "outputs": [],
   "source": [
    "my_set = {1, 2, 3, 4, 5}\n",
    "print(\"Step 1 - Initial set:\", my_set)\n",
    "\n",
    "my_set.add(6)\n",
    "print(\"Step 2 - After adding 6:\", my_set)\n",
    "\n",
    "my_set.remove(2)\n",
    "print(\"Step 3 - After removing 2:\", my_set)\n",
    "\n",
    "union_set = my_set.union({7, 8, 9})\n",
    "print(\"Step 4 - Union with {7, 8, 9}:\", union_set)\n",
    "\n",
    "my_set.clear()\n",
    "print(\"Step 5 - After clearing the set:\", my_set)\n",
    "\n",
    "bonus_set = {1, 2, 2, 3, 3, 4}\n",
    "print(\"Bonus - Set with duplicates:\", bonus_set)\n",
    "print(\"Bonus - Length of set:\", len(bonus_set))"
   ]
  },
  {
   "cell_type": "code",
   "execution_count": null,
   "metadata": {},
   "outputs": [],
   "source": [
    "my_string = \"Learning Python is not fun\"\n",
    "print(\"Step 1 - Initial string:\", my_string)\n",
    "\n",
    "string_length = len(my_string)\n",
    "print(\"Step 2 - String length:\", string_length)\n",
    "\n",
    "sliced_string = my_string[9:15]\n",
    "print(\"Step 3 - Sliced string (Python):\", sliced_string)\n",
    "\n",
    "uppercase_string = my_string.upper()\n",
    "print(\"Step 4 - Uppercase string:\", uppercase_string)\n",
    "\n",
    "replaced_string = my_string.replace(\"fun\", \"good\")\n",
    "print(\"Step 5 - Replaced string:\", replaced_string)\n",
    "\n",
    "reversed_string = my_string[::-1]\n",
    "print(\"Bonus - Reversed string:\", reversed_string)"
   ]
  },
  {
   "cell_type": "code",
   "execution_count": null,
   "metadata": {},
   "outputs": [],
   "source": [
    "my_list = [3, 5, 7, 9, 11]\n",
    "print(\"Step 1 - Initial list:\", my_list)\n",
    "\n",
    "third_element = my_list[2]\n",
    "print(\"Step 2 - Third element:\", third_element)\n",
    "\n",
    "my_list[1] = 6\n",
    "print(\"Step 3 - After modifying second element:\", my_list)\n",
    "\n",
    "my_list.append(13)\n",
    "print(\"Step 4 - After appending 13:\", my_list)\n",
    "\n",
    "my_list.remove(9)\n",
    "print(\"Step 5 - After removing 9:\", my_list)\n",
    "\n",
    "my_list.sort(reverse=True)\n",
    "print(\"Bonus - Sorted list in descending order:\", my_list)"
   ]
  },
  {
   "cell_type": "code",
   "execution_count": null,
   "metadata": {},
   "outputs": [],
   "source": [
    "personal_info = {\n",
    "    \"name\": \"John Doe\",\n",
    "    \"email\": \"john.doe@example.com\",\n",
    "    \"phone number\": \"123-456-7890\"\n",
    "}\n",
    "print(\"Step 2 - Personal Info Dictionary:\", personal_info)\n",
    "\n",
    "print(\"Step 3 - My Name is:\", personal_info[\"name\"])\n",
    "\n",
    "dictionary_length = len(personal_info)\n",
    "print(\"Step 4 - Length of Dictionary:\", dictionary_length)\n",
    "\n",
    "dictionary_type = type(personal_info)\n",
    "print(\"Step 5 - Type of Dictionary:\", dictionary_type)\n",
    "\n",
    "# Bonus\n",
    "second_personal_info = {\n",
    "    \"name\": \"Jane Smith\",\n",
    "    \"email\": \"jane.smith@example.com\",\n",
    "    \"phone number\": \"098-765-4321\"\n",
    "}\n",
    "print(\"Bonus - Second Personal Info Dictionary:\", second_personal_info)\n",
    "\n",
    "print(\"Bonus - First Name:\", personal_info[\"name\"], \"Second Name:\", second_personal_info[\"name\"])\n",
    "print(\"Bonus - First Email:\", personal_info[\"email\"], \"Second Email:\", second_personal_info[\"email\"])\n",
    "print(\"Bonus - First Phone Number:\", personal_info[\"phone number\"], \"Second Phone Number:\", second_personal_info[\"phone number\"])"
   ]
  },
  {
   "cell_type": "code",
   "execution_count": null,
   "metadata": {},
   "outputs": [],
   "source": [
    "# Part 1: Create Personal Info (dict)\n",
    "personal_info = {\n",
    "    \"full_name\": \"Hannah Li\",\n",
    "    \"years\": 17,\n",
    "    \"location\": \"San Diego\",\n",
    "    \"favorite_food\": \"noodles\"\n",
    "}\n",
    "print(\"Part 1 - Personal Info:\", personal_info)\n",
    "\n",
    "# Part 2: Create a List of Activities (list)\n",
    "activities = [\"reading\", \"basketball\", \"painting\"]\n",
    "print(\"Part 2 - Activities List:\", activities)\n",
    "\n",
    "# Part 3: Add Activities to Personal Info (dict and list)\n",
    "personal_info[\"activities\"] = activities\n",
    "print(\"Part 3 - Updated Personal Info with Activities:\", personal_info)\n",
    "\n",
    "# Part 4: Check Availability of an Activity (bool)\n",
    "activity_available = True  # assuming 'cycling' is available today\n",
    "print(f\"Part 4 - Is basketball available today? {activity_available}\")\n",
    "\n",
    "# Part 5: Total Number of Activities (int)\n",
    "total_activities = len(activities)\n",
    "print(f\"Part 5 - I have {total_activities} activities.\")\n",
    "\n",
    "# Part 6: Favorite Activities (tuple)\n",
    "favorite_activities = (\"reading\", \"painting\")\n",
    "print(\"Part 6 - Favorite Activities:\", favorite_activities)\n",
    "\n",
    "# Part 7: Add a New Set of Skills (set)\n",
    "skills = {\"problem-solving\", \"public speaking\", \"time management\"}\n",
    "print(\"Part 7 - Skills Set:\", skills)\n",
    "\n",
    "# Part 8: Consider a New Skill (NoneType)\n",
    "new_skill = None\n",
    "print(\"Part 8 - New Skill:\", new_skill)\n",
    "\n",
    "# Part 9: Calculate Total Hobby and Skill Cost (float)\n",
    "activity_cost = 5.0  # each activity costs $5\n",
    "skill_cost = 10.0  # each skill costs $10\n",
    "total_cost = total_activities * activity_cost + len(skills) * skill_cost\n",
    "print(f\"Part 9 - Total Cost: ${total_cost}\")"
   ]
  },
  {
   "cell_type": "code",
   "execution_count": null,
   "metadata": {
    "vscode": {
     "languageId": "javascript"
    }
   },
   "outputs": [],
   "source": [
    "%% js\n",
    "let Set1 = new Set([1, 2, 3]);\n",
    "let Set2 = new Set([4, 5, 6]);\n",
    "\n",
    "console.log(\"Set1:\", Set1);\n",
    "console.log(\"Set2:\", Set2);\n",
    "\n",
    "Set1.add(7);\n",
    "Set1.delete(1);\n",
    "\n",
    "console.log(\"Set1 after adding 7 and removing 1:\", Set1);\n",
    "\n",
    "let unionSet = new Set([...Set1, ...Set2]);\n",
    "console.log(\"Union of Set1 and Set2:\", unionSet);"
   ]
  },
  {
   "cell_type": "code",
   "execution_count": null,
   "metadata": {
    "vscode": {
     "languageId": "javascript"
    }
   },
   "outputs": [],
   "source": [
    "%% js\n",
    "let application = {\n",
    "    name: \"John Snow\",\n",
    "    age: 20,\n",
    "    experiences: [\"internship\", \"volunteering\", \"teaching\"],\n",
    "    money: 5000\n",
    "};\n",
    "\n",
    "console.log(application);\n",
    "console.log(application.money);"
   ]
  },
  {
   "cell_type": "code",
   "execution_count": null,
   "metadata": {
    "vscode": {
     "languageId": "javascript"
    }
   },
   "outputs": [],
   "source": [
    "%% js\n",
    "let applicantName = prompt(\"What is your name?\");\n",
    "let applicantAge = prompt(\"What is your age?\");\n",
    "let applicantExperiences = prompt(\"List your experiences (separated by commas)\");\n",
    "\n",
    "let application = {\n",
    "    name: applicantName,\n",
    "    age: parseInt(applicantAge),\n",
    "    experiences: applicantExperiences.split(\",\")\n",
    "};\n",
    "\n",
    "console.log(\"Applicant's Info:\", application);"
   ]
  }
 ],
 "metadata": {
  "language_info": {
   "name": "python"
  }
 },
 "nbformat": 4,
 "nbformat_minor": 2
}
