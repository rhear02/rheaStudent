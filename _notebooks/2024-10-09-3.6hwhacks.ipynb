{
 "cells": [
  {
   "cell_type": "markdown",
   "metadata": {},
   "source": [
    "---\n",
    "layout: post\n",
    "title: 3.6 HW Hacks\n",
    "toc: true\n",
    "comments: true\n",
    "---"
   ]
  },
  {
   "cell_type": "markdown",
   "metadata": {
    "vscode": {
     "languageId": "plaintext"
    }
   },
   "source": [
    "Rhea Rajashekhar P4 Popcorn Hacks 3.6"
   ]
  },
  {
   "cell_type": "code",
   "execution_count": null,
   "metadata": {},
   "outputs": [],
   "source": [
    "# Python homework hack 1\n",
    "def check_odd_even(number):\n",
    "    # Check if the number is divisible by 2\n",
    "    if number % 2 == 0:\n",
    "        return \"Even\"\n",
    "    else:\n",
    "        return \"Odd\"\n",
    "\n",
    "# Test the function with different numbers\n",
    "print(check_odd_even(4))   # Output: Even\n",
    "print(check_odd_even(7))   # Output: Odd\n",
    "print(check_odd_even(0))   # Output: Even\n",
    "print(check_odd_even(15))  # Output: Odd\n",
    "print(check_odd_even(22))  # Output: Even"
   ]
  },
  {
   "cell_type": "code",
   "execution_count": null,
   "metadata": {},
   "outputs": [],
   "source": [
    "# python homework hack 2: Leap year checker\n",
    "def is_leap_year(year):\n",
    "    # Check if the year is divisible by 4 but not by 100, or divisible by 400\n",
    "    if (year % 4 == 0 and year % 100 != 0) or (year % 400 == 0):\n",
    "        return \"Leap Year\"\n",
    "    else:\n",
    "        return \"Not a Leap Year\"\n",
    "\n",
    "# Test the function with different years\n",
    "print(is_leap_year(2020))  # Output: Leap Year\n",
    "print(is_leap_year(1900))  # Output: Not a Leap Year\n",
    "print(is_leap_year(2000))  # Output: Leap Year\n",
    "print(is_leap_year(2023))  # Output: Not a Leap Year"
   ]
  },
  {
   "cell_type": "code",
   "execution_count": null,
   "metadata": {},
   "outputs": [],
   "source": [
    "# Python homework hack 3:\n",
    "def temperature_range(temperature):\n",
    "    # Use if...elif...else to categorize the temperature\n",
    "    if temperature < 60:\n",
    "        return \"Cold\"\n",
    "    elif 60 <= temperature <= 80:\n",
    "        return \"Warm\"\n",
    "    elif temperature > 85:\n",
    "        return \"Hot\"\n",
    "    else:\n",
    "        return \"Neither hot nor cold\"  # Handles temperatures between 81°F and 85°F\n",
    "\n",
    "# Test the function with different temperature values\n",
    "print(temperature_range(50))  # Output: Cold\n",
    "print(temperature_range(70))  # Output: Warm\n",
    "print(temperature_range(90))  # Output: Hot\n",
    "print(temperature_range(83))  # Output: Neither hot nor cold"
   ]
  },
  {
   "cell_type": "code",
   "execution_count": null,
   "metadata": {
    "vscode": {
     "languageId": "javascript"
    }
   },
   "outputs": [],
   "source": [
    "%% js \n",
    "function checkVotingEligibility(age) {\n",
    "    // Use an if statement to check if the age is 18 or older\n",
    "    if (age >= 18) {\n",
    "        return \"You are eligible to vote!\";\n",
    "    } else {\n",
    "        return \"You are not eligible to vote yet.\";\n",
    "    }\n",
    "}\n",
    "\n",
    "// Test the function with different age values\n",
    "console.log(checkVotingEligibility(20));  // Output: You are eligible to vote!\n",
    "console.log(checkVotingEligibility(16));  // Output: You are not eligible to vote yet."
   ]
  },
  {
   "cell_type": "code",
   "execution_count": null,
   "metadata": {
    "vscode": {
     "languageId": "javascript"
    }
   },
   "outputs": [],
   "source": [
    "function getGrade(score) {\n",
    "    // Use if...else if...else statements to determine the letter grade\n",
    "    if (score >= 90) {\n",
    "        return \"Grade: A\";\n",
    "    } else if (score >= 80) {\n",
    "        return \"Grade: B\";\n",
    "    } else if (score >= 70) {\n",
    "        return \"Grade: C\";\n",
    "    } else {\n",
    "        return \"Grade: F\";\n",
    "    }\n",
    "}\n",
    "\n",
    "// Test the function with different scores\n",
    "console.log(getGrade(95));  // Output: Grade: A\n",
    "console.log(getGrade(85));  // Output: Grade: B\n",
    "console.log(getGrade(75));  // Output: Grade: C\n",
    "console.log(getGrade(65));  // Output: Grade: F"
   ]
  },
  {
   "cell_type": "code",
   "execution_count": null,
   "metadata": {
    "vscode": {
     "languageId": "javascript"
    }
   },
   "outputs": [],
   "source": [
    "%% js \n",
    "function convertTemperature(value, scale) {\n",
    "    // Use if statements to check the scale\n",
    "    if (scale === \"C\") {\n",
    "        // Convert Celsius to Fahrenheit\n",
    "        let fahrenheit = (value * 9/5) + 32;\n",
    "        return fahrenheit + \"°F\";\n",
    "    } else if (scale === \"F\") {\n",
    "        // Convert Fahrenheit to Celsius\n",
    "        let celsius = (value - 32) * 5/9;\n",
    "        return celsius.toFixed(2) + \"°C\";  // Round to 2 decimal places\n",
    "    } else {\n",
    "        return \"Error: Invalid scale. Use 'C' for Celsius or 'F' for Fahrenheit.\";\n",
    "    }\n",
    "}\n",
    "\n",
    "// Test the function with different values and scales\n",
    "console.log(convertTemperature(25, \"C\"));  // Output: 77°F\n",
    "console.log(convertTemperature(77, \"F\"));  // Output: 25.00°C\n",
    "console.log(convertTemperature(100, \"C\")); // Output: 212°F\n",
    "console.log(convertTemperature(32, \"F\"));  // Output: 0.00°C\n",
    "console.log(convertTemperature(30, \"X\"));  // Output: Error: Invalid scale. Use 'C' or 'F'."
   ]
  }
 ],
 "metadata": {
  "language_info": {
   "name": "python"
  }
 },
 "nbformat": 4,
 "nbformat_minor": 2
}
