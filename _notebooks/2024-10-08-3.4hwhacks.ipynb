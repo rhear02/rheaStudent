{
 "cells": [
  {
   "cell_type": "markdown",
   "metadata": {},
   "source": [
    "---\n",
    "layout: post\n",
    "title: 3.4 HW Hacks\n",
    "toc: true\n",
    "comments: true\n",
    "---"
   ]
  },
  {
   "cell_type": "raw",
   "metadata": {
    "vscode": {
     "languageId": "raw"
    }
   },
   "source": [
    "Rhea Rajashekhar P4 Popcorn Hacks 3.4 strings"
   ]
  },
  {
   "cell_type": "code",
   "execution_count": null,
   "metadata": {},
   "outputs": [],
   "source": [
    "# Python Popcorn Hack 1: Get the lyrics of a clean song\n",
    "# Step 1: Lyrics of a new clean song\n",
    "lyrics = \"\"\"\n",
    "Under the bright lights, we shine, we glow\n",
    "Together, we’re unstoppable, let’s go\n",
    "Through the highs and the lows\n",
    "We’ll never be alone, no, we’ll never be alone\n",
    "\n",
    "When the world turns its back, we stand tall\n",
    "We’ll break the silence, hear our call\n",
    "No matter what they say, we’ll rise above\n",
    "United by a love that’s strong enough\n",
    "\n",
    "We are unbreakable, untouchable\n",
    "Together, we’re invincible\n",
    "We are unbreakable, unstoppable\n",
    "Together, we’re incredible\n",
    "\n",
    "Through the storm, we’ll find our way\n",
    "In the dark, we’ll light the day\n",
    "No one can take this away\n",
    "Our bond is here to stay\n",
    "\n",
    "We are unbreakable, untouchable\n",
    "Together, we’re invincible\n",
    "We are unbreakable, unstoppable\n",
    "Together, we’re incredible\n",
    "\"\"\"\n",
    "\n",
    "# The song title\n",
    "song_title = \"unbreakable\""
   ]
  },
  {
   "cell_type": "code",
   "execution_count": null,
   "metadata": {},
   "outputs": [],
   "source": [
    "# Step 2: Find how many times the title appears in the lyrics\n",
    "title_count = lyrics.lower().count(song_title.lower())\n",
    "print(f'The title \"{song_title}\" appears {title_count} times in the song.')"
   ]
  },
  {
   "cell_type": "code",
   "execution_count": null,
   "metadata": {},
   "outputs": [],
   "source": [
    "# Step 3: Find the index of the 50th word\n",
    "words = lyrics.split()  # Split lyrics into words\n",
    "if len(words) >= 50:\n",
    "    word_50th = words[49]  # Words are zero-indexed, so 50th word is at index 49\n",
    "    index_of_50th = lyrics.index(word_50th)\n",
    "    print(f'The index of the 50th word (\"{word_50th}\") is: {index_of_50th}')\n",
    "else:\n",
    "    print(\"The lyrics have less than 50 words.\")"
   ]
  },
  {
   "cell_type": "code",
   "execution_count": null,
   "metadata": {},
   "outputs": [],
   "source": [
    "# Step 4: Replace the first verse with the last verse\n",
    "verses = lyrics.strip().split(\"\\n\")  # Split the lyrics into verses\n",
    "if len(verses) >= 2:\n",
    "    first_verse = verses[0]\n",
    "    last_verse = verses[-1]\n",
    "    # Replace the first verse with the last one\n",
    "    new_lyrics = lyrics.replace(first_verse, last_verse, 1)\n",
    "    print(\"\\nLyrics after swapping the first and last verse:\")\n",
    "    print(new_lyrics)\n",
    "else:\n",
    "    print(\"The lyrics do not have enough verses to perform a swap.\")"
   ]
  },
  {
   "cell_type": "code",
   "execution_count": null,
   "metadata": {},
   "outputs": [],
   "source": [
    "# Step 5: Concatenate two verses together to create your own song\n",
    "if len(verses) >= 3:\n",
    "    new_song = verses[1] + \"\\n\" + verses[2]  # Concatenating the second and third verses\n",
    "    print(\"\\nNew song created by concatenating two verses:\")\n",
    "    print(new_song)\n",
    "else:\n",
    "    print(\"The lyrics do not have enough verses to concatenate.\")"
   ]
  },
  {
   "cell_type": "code",
   "execution_count": null,
   "metadata": {
    "vscode": {
     "languageId": "javascript"
    }
   },
   "outputs": [],
   "source": [
    "%% js \n",
    "// Popcorn Hack 2: Concatenate a flower with an animal to create a new creature\n",
    "// Step 1: Define a flower and an animal\n",
    "const flower = \"Rose\";\n",
    "const animal = \"Tiger\";"
   ]
  },
  {
   "cell_type": "code",
   "execution_count": null,
   "metadata": {
    "vscode": {
     "languageId": "javascript"
    }
   },
   "outputs": [],
   "source": [
    "%% js \n",
    "// Step 2: Concatenate to make a new creature using template literals\n",
    "let newCreature = `${flower} ${animal}`;\n",
    "console.log(\"The new creature is: \" + newCreature);"
   ]
  },
  {
   "cell_type": "code",
   "execution_count": null,
   "metadata": {
    "vscode": {
     "languageId": "javascript"
    }
   },
   "outputs": [],
   "source": [
    "%% js \n",
    "// Step 3: Write a short story about the creature using variables and dialog\n",
    "let name = \"Tyler\";  // New creature's name\n",
    "let color = \"crimson\";\n",
    "let habitat = \"the enchanted jungle\";\n",
    "\n",
    "let story = `${name} was a rare creature with petals as soft as silk, but claws sharp enough to tear through steel. \n",
    "One evening, as the sun set in ${habitat}, ${name} roared, its ${color} fur glowing in the twilight.\n",
    "\n",
    "\"Why does the world fear me?\" ${name} whispered to the stars, staring at the night sky.\n",
    "\n",
    "A wise owl swooped down and replied, \"They fear what they don't understand, ${name}. But your beauty is undeniable.\"\n",
    "\n",
    "With a sigh, ${name} said, 'Maybe one day, they’ll see me for who I am, not for the fearsome stories they’ve heard.'`;\n",
    "\n",
    "console.log(story);"
   ]
  },
  {
   "cell_type": "code",
   "execution_count": null,
   "metadata": {},
   "outputs": [],
   "source": [
    "# Main strings hack \n",
    "def analyze_text():\n",
    "    # User input\n",
    "    text = input(\"Enter a sentence or multiple sentences: \")\n",
    "\n",
    "    # Original string\n",
    "    print(f\"\\nOriginal string: {text}\")\n",
    "\n",
    "    # Total characters (including spaces)\n",
    "    total_characters = len(text)\n",
    "    print(f\"Total characters (including spaces): {total_characters}\")\n",
    "\n",
    "    # Finding longest word and its length\n",
    "    words = re.findall(r'\\b\\w+\\b', text)  # Using regex to exclude punctuation\n",
    "    longest_word = max(words, key=len)\n",
    "    print(f\"Longest word: {longest_word} ({len(longest_word)} characters)\")\n",
    "\n",
    "    # Reversed string\n",
    "    reversed_string = text[::-1]\n",
    "    print(f\"Reversed string: {reversed_string}\")\n",
    "\n",
    "    # Middle word/character (excluding spaces and special characters)\n",
    "    cleaned_text = ''.join(re.findall(r'\\w+', text))  # Removes special characters and spaces\n",
    "    middle_index = len(cleaned_text) // 2\n",
    "    if len(cleaned_text) % 2 == 0:\n",
    "        middle_character = cleaned_text[middle_index - 1:middle_index + 1]\n",
    "    else:\n",
    "        middle_character = cleaned_text[middle_index]\n",
    "    print(f\"Middle character(s) (excluding spaces/special characters): {middle_character}\")\n",
    "\n",
    "    # Custom function: Replace word feature\n",
    "    original_text = text\n",
    "    word_to_replace = input(\"\\nEnter the word you want to replace: \")\n",
    "    replacement_word = input(\"Enter the new word: \")\n",
    "\n",
    "    if word_to_replace in original_text:\n",
    "        updated_text = original_text.replace(word_to_replace, replacement_word)\n",
    "        print(f\"Updated string: {updated_text}\")\n",
    "    else:\n",
    "        print(f\"The word '{word_to_replace}' is not in the original string!\")\n",
    "\n",
    "# Call the function to run the analyzer\n",
    "analyze_text()"
   ]
  },
  {
   "cell_type": "code",
   "execution_count": null,
   "metadata": {
    "vscode": {
     "languageId": "javascript"
    }
   },
   "outputs": [],
   "source": [
    "%% js \n",
    "<!DOCTYPE html>\n",
    "<html lang=\"en\">\n",
    "<head>\n",
    "    <meta charset=\"UTF-8\">\n",
    "    <meta name=\"viewport\" content=\"width=device-width, initial-scale=1.0\">\n",
    "    <title>Text Analyzer</title>\n",
    "</head>\n",
    "<body>\n",
    "    <h1>Text Analyzer</h1>\n",
    "    <textarea id=\"inputText\" rows=\"4\" cols=\"50\" placeholder=\"Enter your text here...\"></textarea><br>\n",
    "    <button onclick=\"analyzeText()\">Analyze</button><br><br>\n",
    "\n",
    "    <p id=\"originalText\"></p>\n",
    "    <p id=\"totalCharacters\"></p>\n",
    "    <p id=\"longestWord\"></p>\n",
    "    <p id=\"reversedText\"></p>\n",
    "    <p id=\"middleCharacter\"></p>\n",
    "\n",
    "    <script>\n",
    "        function analyzeText() {\n",
    "            let text = document.getElementById(\"inputText\").value;\n",
    "\n",
    "            // Display original text\n",
    "            document.getElementById(\"originalText\").innerHTML = `Original string: ${text}`;\n",
    "\n",
    "            // Total characters including spaces\n",
    "            let totalCharacters = text.length;\n",
    "            document.getElementById(\"totalCharacters\").innerHTML = `Total characters (including spaces): ${totalCharacters}`;\n",
    "\n",
    "            // Finding longest word\n",
    "            let words = text.match(/\\b\\w+\\b/g);\n",
    "            let longestWord = words.reduce((longest, current) => current.length > longest.length ? current : longest, \"\");\n",
    "            document.getElementById(\"longestWord\").innerHTML = `Longest word: ${longestWord} (${longestWord.length} characters)`;\n",
    "\n",
    "            // Reversed string\n",
    "            let reversedText = text.split('').reverse().join('');\n",
    "            document.getElementById(\"reversedText\").innerHTML = `Reversed string: ${reversedText}`;\n",
    "\n",
    "            // Middle character/word (excluding spaces and special characters)\n",
    "            let cleanedText = text.replace(/[^A-Za-z0-9]/g, ''); // Removing spaces and special characters\n",
    "            let middleIndex = Math.floor(cleanedText.length / 2);\n",
    "            let middleCharacter = cleanedText.length % 2 === 0 \n",
    "                                  ? cleanedText[middleIndex - 1] + cleanedText[middleIndex] \n",
    "                                  : cleanedText[middleIndex];\n",
    "            document.getElementById(\"middleCharacter\").innerHTML = `Middle character(s): ${middleCharacter}`;\n",
    "        }\n",
    "    </script>\n",
    "</body>\n",
    "</html>\n",
    "Optional Word Replacement Feature (JavaScript)\n",
    "To add the word replacement functionality to the JavaScript version, you can extend the script as follows:\n",
    "\n",
    "html\n",
    "Copy code\n",
    "<p>Replace a word:</p>\n",
    "<input id=\"wordToReplace\" placeholder=\"Word to replace\">\n",
    "<input id=\"replacementWord\" placeholder=\"Replacement word\">\n",
    "<button onclick=\"replaceWord()\">Replace Word</button>\n",
    "<p id=\"updatedText\"></p>\n",
    "\n",
    "<script>\n",
    "    function replaceWord() {\n",
    "        let text = document.getElementById(\"inputText\").value;\n",
    "        let wordToReplace = document.getElementById(\"wordToReplace\").value;\n",
    "        let replacementWord = document.getElementById(\"replacementWord\").value;\n",
    "\n",
    "        if (text.includes(wordToReplace)) {\n",
    "            let updatedText = text.replaceAll(wordToReplace, replacementWord);\n",
    "            document.getElementById(\"updatedText\").innerHTML = `Updated string: ${updatedText}`;\n",
    "        } else {\n",
    "            document.getElementById(\"updatedText\").innerHTML = `The word '${wordToReplace}' is not in the original string!`;\n",
    "        }\n",
    "    }\n",
    "</script>"
   ]
  }
 ],
 "metadata": {
  "language_info": {
   "name": "python"
  }
 },
 "nbformat": 4,
 "nbformat_minor": 2
}
