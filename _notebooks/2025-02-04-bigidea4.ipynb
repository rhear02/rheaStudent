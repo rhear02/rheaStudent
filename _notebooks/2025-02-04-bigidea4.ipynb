{
 "cells": [
  {
   "cell_type": "markdown",
   "metadata": {},
   "source": [
    "---\n",
    "toc: true\n",
    "comments: false\n",
    "layout: post\n",
    "type: ccc\n",
    "permalink: /bigidea4\n",
    "---"
   ]
  },
  {
   "cell_type": "markdown",
   "metadata": {},
   "source": [
    "4.1 The internet\n",
    "\n",
    "Packet: a small amount of data sent over a network. Each packet includes the source and the destination information.\n",
    "\n",
    "Packet switching: the message (file) is broken up into packets and sent in any order. The packets are reassembled by the recipient’s device\n",
    "\n",
    "Path: a path between two computing devices on a computer network is a sequence of connected computing devices that begins at the sender and ends at the receiver\n",
    "\n",
    "IETF (Internet Engineering Task Force): manages the development of standards and technical discussions concerning the internet in an open process\n",
    "\n",
    "TCP (Transmission Control Protocol): establishes a common standard for how to send messages between devices on the internet\n",
    "\n",
    "<img alt= \"4.1\" src= \"/rheaStudent/images/4.1.jpg\" width=\"400\" height=\"500\" class=\"spaced-img\">\n"
   ]
  },
  {
   "cell_type": "markdown",
   "metadata": {},
   "source": [
    "4.2 Fault Tolerance\n",
    "\n",
    "The internet has been engineered to be fault tolerant, with abstractions for routing and transmitting data\n",
    "\n",
    "Redundancy is the inclusion of extra components that can be used to mitigate failure of a system if other components fail\n",
    "\n",
    "Redundancy within a system often requires additional resources but can provide the benefit or fault tolerance\n",
    "\n",
    "The redundancy of routing options between two points increases the reliability of the internet and helps it scale to the more devices and more people\n",
    "\n",
    "<img alt= \"4.2\" src= \"/rheaStudent/images/4.2.jpg\" width=\"400\" height=\"500\" class=\"spaced-img\">"
   ]
  },
  {
   "cell_type": "markdown",
   "metadata": {},
   "source": [
    "4.3 Parallel and Distributed Computing\n",
    "\n",
    "System tasks: the operating system has dozens of tasks, like scheduling what it will be doing next, managing hardware\n",
    "\n",
    "User tasks: executing programs that the user has selected, like running MS Excel and MS Word\n",
    "\n",
    "Tasks need to be schedules by the operating system. Balance tasks so all CPUs are being used evenly and fully\n",
    "\n",
    "<img alt= \"4.3\" src= \"/rheaStudent/images/4.3.jpg\" width=\"400\" height=\"500\" class=\"spaced-img\">"
   ]
  }
 ],
 "metadata": {
  "kernelspec": {
   "display_name": "venv",
   "language": "python",
   "name": "python3"
  },
  "language_info": {
   "codemirror_mode": {
    "name": "ipython",
    "version": 3
   },
   "file_extension": ".py",
   "mimetype": "text/x-python",
   "name": "python",
   "nbconvert_exporter": "python",
   "pygments_lexer": "ipython3",
   "version": "3.12.5"
  }
 },
 "nbformat": 4,
 "nbformat_minor": 2
}
