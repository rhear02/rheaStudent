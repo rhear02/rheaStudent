{
 "cells": [
  {
   "cell_type": "markdown",
   "metadata": {},
   "source": [
    "---\n",
    "layout: post\n",
    "title: 3.10 HW Hacks\n",
    "toc: true\n",
    "comments: true\n",
    "---"
   ]
  },
  {
   "cell_type": "markdown",
   "metadata": {},
   "source": [
    "Rhea Rajashekhar P4 Popcorn Hacks 3.10 variables"
   ]
  },
  {
   "cell_type": "code",
   "execution_count": null,
   "metadata": {},
   "outputs": [],
   "source": [
    "# Python Popcorn Hack 1: Reverse an Array\n",
    "my_array = [1, 2, 3, 4, 5]\n",
    "print(\"Original array:\", my_array)\n",
    "\n",
    "# Reverse the array\n",
    "my_array.reverse()\n",
    "print(\"Reversed array:\", my_array)"
   ]
  },
  {
   "cell_type": "code",
   "execution_count": null,
   "metadata": {},
   "outputs": [],
   "source": [
    "# Python Popcorn Hack 2\n",
    "my_array = [3, 4, 5]\n",
    "\n",
    "# Use list concatenation to mimic the unshift effect\n",
    "new_element = [2]  # The element to add\n",
    "my_array = new_element + my_array\n",
    "print(\"Array after unshift:\", my_array)"
   ]
  },
  {
   "cell_type": "code",
   "execution_count": null,
   "metadata": {},
   "outputs": [],
   "source": [
    "# Python Popcorn Hack 3\n",
    "numbers = [1, 2, 3, 4, 5, 6, 7, 8, 9, 10]\n",
    "\n",
    "# Use filter to create a new array with only even numbers\n",
    "even_numbers = list(filter(lambda x: x % 2 == 0, numbers))\n",
    "print(\"Even numbers using filter:\", even_numbers)"
   ]
  },
  {
   "cell_type": "code",
   "execution_count": null,
   "metadata": {},
   "outputs": [],
   "source": [
    "# Python Popcorn Hack 4\n",
    "my_list = [1, 2, 3]\n",
    "\n",
    "# Insert values at negative indexes\n",
    "my_list.insert(-1, 1.5)  # Inserts 1.5 before the last element\n",
    "my_list.insert(-2, 1.2)  # Inserts 1.2 before the second last element\n",
    "print(\"List after inserting with negative indexes:\", my_list)"
   ]
  },
  {
   "cell_type": "code",
   "execution_count": null,
   "metadata": {},
   "outputs": [],
   "source": [
    "# Python Popcorn Hack 5\n",
    "list1 = [1, 2, 3]\n",
    "list2 = [4, 5, 6]\n",
    "\n",
    "# Use extend to add list2 to list1\n",
    "list1.extend(list2)\n",
    "print(\"Combined list using extend:\", list1)"
   ]
  },
  {
   "cell_type": "code",
   "execution_count": null,
   "metadata": {},
   "outputs": [],
   "source": [
    "# Python Popcorn Hack 6\n",
    "my_list = ['apple', 'banana', 'cherry', 'strawberry', 'grape']\n",
    "\n",
    "# Remove an item using remove()\n",
    "my_list.remove('banana')\n",
    "print(\"List after removing 'banana':\", my_list)\n",
    "\n",
    "# Remove an item using pop()\n",
    "my_list.pop(2)  # Removes 'cherry'\n",
    "print(\"List after popping index 2:\", my_list)\n",
    "\n",
    "# Remove an item using del\n",
    "del my_list[0]  # Removes 'apple'\n",
    "print(\"List after deleting index 0:\", my_list)"
   ]
  },
  {
   "cell_type": "code",
   "execution_count": null,
   "metadata": {
    "vscode": {
     "languageId": "javascript"
    }
   },
   "outputs": [],
   "source": [
    "%% js \n",
    "// JS HW Hack 1 \n",
    "let array = [1, 2, 3, 4, 5];\n",
    "\n",
    "// Display the array using console.log()\n",
    "console.log(\"Original array:\", array);\n",
    "\n",
    "// Reverse the array using the reverse() method\n",
    "array.reverse();\n",
    "\n",
    "// Display the reversed array\n",
    "console.log(\"Reversed array:\", array);"
   ]
  },
  {
   "cell_type": "code",
   "execution_count": null,
   "metadata": {
    "vscode": {
     "languageId": "javascript"
    }
   },
   "outputs": [],
   "source": [
    "%% js \n",
    "// JS HW Hack 2\n",
    "let sports = [\"soccer\", \"football\", \"basketball\", \"wrestling\", \"swimming\"];\n",
    "\n",
    "// Access and display values using their indexes\n",
    "console.log(sports[0]);  // Output: soccer\n",
    "console.log(sports[3]);  // Output: wrestling"
   ]
  },
  {
   "cell_type": "code",
   "execution_count": null,
   "metadata": {
    "vscode": {
     "languageId": "javascript"
    }
   },
   "outputs": [],
   "source": [
    "%% js \n",
    "// JS HW Hack 3\n",
    "let choresList = [\"laundry\", \"dishes\", \"vacuuming\", \"grocery shopping\"];\n",
    "console.log(\"Initial chores list:\", choresList);\n",
    "\n",
    "// Add an item using push()\n",
    "choresList.push(\"cleaning the bathroom\");\n",
    "console.log(\"After push:\", choresList);\n",
    "\n",
    "// Remove the first item using shift()\n",
    "choresList.shift();\n",
    "console.log(\"After shift:\", choresList);\n",
    "\n",
    "// Remove the last item using pop()\n",
    "choresList.pop();\n",
    "console.log(\"After pop:\", choresList);\n",
    "\n",
    "// Add an item to the beginning using unshift()\n",
    "choresList.unshift(\"mopping\");\n",
    "console.log(\"After unshift:\", choresList);\n",
    "\n",
    "// Bonus: Add multiple values using push() and spread operator\n",
    "choresList.push(...[\"taking out trash\", \"dusting\", \"organizing\"]);\n",
    "console.log(\"After adding multiple chores:\", choresList);"
   ]
  },
  {
   "cell_type": "code",
   "execution_count": null,
   "metadata": {
    "vscode": {
     "languageId": "javascript"
    }
   },
   "outputs": [],
   "source": [
    "%% js \n",
    "// JS HW Hack 4\n",
    "let randomNumbers = [12, 7, 19, 24, 35, 8, 42, 5, 14, 27];\n",
    "console.log(\"Random Numbers:\", randomNumbers);\n",
    "\n",
    "// Function to count even numbers\n",
    "function countEvenNumbers(arr) {\n",
    "    let count = 0;  // Initialize count\n",
    "    for (let number of arr) {\n",
    "        if (number % 2 === 0) {\n",
    "            count++;  // Increment count if even\n",
    "        }\n",
    "    }\n",
    "    return count;\n",
    "}\n",
    "\n",
    "// Call the function and display the count of even numbers\n",
    "let evenCount = countEvenNumbers(randomNumbers);\n",
    "console.log(\"Count of even numbers:\", evenCount);"
   ]
  }
 ],
 "metadata": {
  "language_info": {
   "name": "python"
  }
 },
 "nbformat": 4,
 "nbformat_minor": 2
}
