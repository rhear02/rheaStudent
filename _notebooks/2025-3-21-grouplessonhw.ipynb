{
 "cells": [
  {
   "cell_type": "markdown",
   "metadata": {},
   "source": [
    "---\n",
    "toc: true\n",
    "comments: false\n",
    "layout: post\n",
    "type: ccc\n",
    "permalink: /grouplessonhw\n",
    "---"
   ]
  },
  {
   "cell_type": "code",
   "execution_count": null,
   "metadata": {
    "vscode": {
     "languageId": "html"
    }
   },
   "outputs": [],
   "source": [
    "<style>\n",
    "    body {\n",
    "      font-family: Arial, sans-serif;\n",
    "      background-color: white;\n",
    "      color: darkpink;\n",
    "      padding: 20px;\n",
    "    }\n",
    "    h1, h2, h3 {\n",
    "      color: #ff69b4;\n",
    "    }\n",
    "    .container {\n",
    "      background: #ffccdd;\n",
    "      padding: 20px;\n",
    "      border-radius: 10px;\n",
    "      box-shadow: 0px 0px 10px rgba(255, 105, 180, 0.2);\n",
    "    }\n",
    "    img {\n",
    "      display: block;\n",
    "      margin: 10px auto;\n",
    "      border-radius: 10px;\n",
    "    }\n",
    "    code {\n",
    "      background-color: #ff99bb;\n",
    "      color: darkred;\n",
    "      padding: 2px 5px;\n",
    "      border-radius: 5px;\n",
    "    }\n",
    "  </style>\n",
    "  \n",
    "  <div class=\"container\">"
   ]
  },
  {
   "cell_type": "markdown",
   "metadata": {},
   "source": [
    "5.1 Beneficial and Harmful effects\n",
    "\n",
    "I believe that artificial intelligence is both beneficial and harmful, but its misuse can be especially damaging. While AI can improve efficiency and accuracy in fields like healthcare and transportation, it also poses risks, such as privacy violations and job displacement. In San Diego, companies using AI for data collection may unintentionally compromise personal information, highlighting the need for stronger data protection policies. Additionally, over-reliance on AI in hiring processes can reinforce biases, making it harder for marginalized groups to access job opportunities. To prevent these harmful effects, it’s important to advocate for responsible AI regulations and promote ethical development practices."
   ]
  }
 ],
 "metadata": {
  "language_info": {
   "name": "python"
  }
 },
 "nbformat": 4,
 "nbformat_minor": 2
}
