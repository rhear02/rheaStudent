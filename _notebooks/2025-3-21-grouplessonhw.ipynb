{
 "cells": [
  {
   "cell_type": "markdown",
   "metadata": {},
   "source": [
    "---\n",
    "toc: true\n",
    "comments: false\n",
    "layout: post\n",
    "type: ccc\n",
    "permalink: /grouplessonhw\n",
    "---"
   ]
  },
  {
   "cell_type": "markdown",
   "metadata": {},
   "source": [
    "**5.1 Beneficial and Harmful effects**\n",
    "\n",
    "I believe that artificial intelligence is both beneficial and harmful, but its misuse can be especially damaging. While AI can improve efficiency and accuracy in fields like healthcare and transportation, it also poses risks, such as privacy violations and job displacement. In San Diego, companies using AI for data collection may unintentionally compromise personal information, highlighting the need for stronger data protection policies. Additionally, over-reliance on AI in hiring processes can reinforce biases, making it harder for marginalized groups to access job opportunities. To prevent these harmful effects, it’s important to advocate for responsible AI regulations and promote ethical development practices."
   ]
  },
  {
   "cell_type": "markdown",
   "metadata": {},
   "source": [
    "**Digital Divide**\n",
    "\n",
    "In San Diego, I’ve noticed that students from lower-income neighborhoods, like Southeast San Diego, often have limited access to personal laptops or stable internet connections, making it harder for them to complete schoolwork efficiently. Some areas lack public resources, such as libraries with reliable free Wi-Fi, leaving families without home internet disconnected. During remote learning, students with outdated devices struggled with slow performance, while those with newer technology had a clear advantage. I’ve also seen how older adults, especially in underserved areas, lack the digital skills needed to access essential services, like healthcare portals or job applications. To help bridge this gap, I can volunteer with local programs by teaching digital literacy or helping distribute refurbished devices to families in need.\n"
   ]
  },
  {
   "cell_type": "markdown",
   "metadata": {},
   "source": [
    "**Computing Bias**\n",
    "\n",
    "Popcorn hack #1: B since you are explicitly providing the user data about your name and other information\n",
    "\n",
    "Popcorn hack #2: B since a system trained on an underrepresented dataset, such as people with darker skin tones, leads to poor performance for those groups, illustrating Data Bias.\n",
    "\n",
    "Popcorn hack #3: Unintentional bias happens when someone unknowingly favors one group over another. For example, a teacher might call on boys more often than girls without meaning to, simply because of unconscious habits or assumptions.\n",
    "\n",
    "Short Answer Question: \n",
    "\n",
    "Implicit data is information collected indirectly from user behavior without the user explicitly stating preferences. For example, an online retailer tracking the items you browse or purchase over time infers your interests.\n",
    "\n",
    "Explicit data is information that a user provides directly, such as filling out a survey or rating a product. For instance, when you rate a movie on a streaming service, you’re giving explicit feedback."
   ]
  }
 ],
 "metadata": {
  "language_info": {
   "name": "python"
  }
 },
 "nbformat": 4,
 "nbformat_minor": 2
}
