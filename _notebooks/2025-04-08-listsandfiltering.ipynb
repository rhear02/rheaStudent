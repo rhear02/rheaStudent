{
 "cells": [
  {
   "cell_type": "markdown",
   "metadata": {},
   "source": [
    "---\n",
    "toc: true\n",
    "comments: false\n",
    "layout: post\n",
    "type: ccc\n",
    "permalink: /listsandfiltering\n",
    "---"
   ]
  },
  {
   "cell_type": "markdown",
   "metadata": {},
   "source": [
    "Popcorn hack 1:\n",
    "\n",
    "Lists are a versatile and efficient way to store multiple values in a single variable, allowing for easy access, manipulation, and iteration of data. They offer benefits like dynamic sizing, organized storage, and the ability to sort or filter items. Real-world examples of lists in code include to-do list apps, student grade tracking, inventory management, web scraping, and bank account transactions. Lists make handling collections of data simple, whether you're organizing tasks, calculating averages, or tracking changes over time."
   ]
  },
  {
   "cell_type": "markdown",
   "metadata": {},
   "source": [
    "Popcorn hack 2:\n",
    "\n",
    "The code output is eraser\n",
    "\n",
    "1. The list items is initially [\"pen\", \"pencil\", \"marker\", \"eraser\"].\n",
    "\n",
    "2. items.remove(\"pencil\") removes the item \"pencil\" from the list, so the list becomes [\"pen\", \"marker\", \"eraser\"].\n",
    "\n",
    "3. items.append(\"sharpener\") adds \"sharpener\" to the end of the list, so the list becomes [\"pen\", \"marker\", \"eraser\", \"sharpener\"].\n",
    "\n",
    "4. print(items[2]) prints the element at index 2 in the list, which is \"eraser\"."
   ]
  },
  {
   "cell_type": "markdown",
   "metadata": {},
   "source": [
    "Popcorn hack 3:\n",
    "\n",
    "Filtering algorithms are used in many real-world applications to sort through large amounts of data and highlight what’s most relevant. For example, search engines filter results to show the most relevant pages based on a user's query, while social media platforms use filters to personalize content and ads for users. Email services use spam filters to block unwanted messages, and recommendation systems like Netflix or Amazon filter through catalogs to suggest movies, products, or shows based on user preferences. These algorithms improve efficiency and enhance user experience by focusing on what matters most."
   ]
  },
  {
   "cell_type": "code",
   "execution_count": 2,
   "metadata": {},
   "outputs": [
    {
     "name": "stdout",
     "output_type": "stream",
     "text": [
      "['apple', 'cherry', 'date', 'elderberry', 'fig']\n"
     ]
    }
   ],
   "source": [
    "# Step 1: Creating a list of items\n",
    "items = [\"apple\", \"banana\", \"cherry\", \"date\", \"elderberry\"]\n",
    "\n",
    "# Step 2: Using the 'append' procedure, which adds a new item to the end of the list.\n",
    "# Adds \"fig\" to the end of the list\n",
    "items.append(\"fig\")  # Procedure 1\n",
    "\n",
    "# Step 3: Using the 'remove' procedure, which removes the first occurrence of a specified \n",
    "# item from the list.\n",
    "# Removes \"banana\" from the list\n",
    "items.remove(\"banana\")  # Procedure 2\n",
    "\n",
    "# Step 4: Using the 'sort' procedure, which sorts the list in ascending order.\n",
    "# Sorts the list alphabetically\n",
    "items.sort()  # Procedure 3\n",
    "\n",
    "print(items)"
   ]
  },
  {
   "cell_type": "code",
   "execution_count": 3,
   "metadata": {},
   "outputs": [
    {
     "name": "stdout",
     "output_type": "stream",
     "text": [
      "apple\n",
      "cherry\n",
      "date\n",
      "elderberry\n",
      "fig\n"
     ]
    }
   ],
   "source": [
    "for item in items:\n",
    "    print(item) \n",
    "# This loop goes through the list one item at a time, printing each item until the end of the list is reached."
   ]
  },
  {
   "cell_type": "markdown",
   "metadata": {},
   "source": [
    "Steps to traverse the list:\n",
    "\n",
    "Start with the first item in the list.\n",
    "\n",
    "Use a loop (for loop) to iterate over each item in the list.\n",
    "\n",
    "Access each item using the loop’s index or directly.\n",
    "\n",
    "Perform any operation you need on the item (e.g., printing it, modifying it, etc.).\n",
    "\n",
    "Continue to the next item in the list until all items have been processed."
   ]
  },
  {
   "cell_type": "markdown",
   "metadata": {},
   "source": [
    "Filtering Algorithm (Using Pandas):\n",
    "Condition: Filter for fruits that contain the letter 'e'\n",
    "\n",
    "Steps:\n",
    "\n",
    "Start with a list of items (fruits in this case).\n",
    "\n",
    "Convert the list to a pandas DataFrame for better manipulation.\n",
    "\n",
    "Use list traversal (looping) to check each item.\n",
    "\n",
    "Apply the condition: check if the item contains the letter 'e'.\n",
    "\n",
    "Build a new list containing only the items that meet the condition (i.e., contain 'e')."
   ]
  },
  {
   "cell_type": "code",
   "execution_count": 4,
   "metadata": {},
   "outputs": [
    {
     "name": "stdout",
     "output_type": "stream",
     "text": [
      "        fruit\n",
      "0       apple\n",
      "2      cherry\n",
      "3        date\n",
      "4  elderberry\n"
     ]
    }
   ],
   "source": [
    "import pandas as pd\n",
    "\n",
    "# Step 1: Create the list of fruits\n",
    "fruits = [\"apple\", \"banana\", \"cherry\", \"date\", \"elderberry\"]\n",
    "\n",
    "# Step 2: Convert list to pandas DataFrame\n",
    "df = pd.DataFrame(fruits, columns=[\"fruit\"])\n",
    "\n",
    "# Step 3: Apply the condition to filter fruits with 'e'\n",
    "filtered_fruits = df[df[\"fruit\"].str.contains(\"e\")]\n",
    "\n",
    "print(filtered_fruits)"
   ]
  },
  {
   "cell_type": "markdown",
   "metadata": {},
   "source": [
    "Final Reflection\n",
    "\n",
    "Filtering algorithms and lists are used in real life to sort and refine data, such as when a search engine filters results based on relevance to a user's query. Lists help store and organize information, and filtering algorithms ensure only the relevant data is selected for display or further analysis."
   ]
  }
 ],
 "metadata": {
  "kernelspec": {
   "display_name": "venv",
   "language": "python",
   "name": "python3"
  },
  "language_info": {
   "codemirror_mode": {
    "name": "ipython",
    "version": 3
   },
   "file_extension": ".py",
   "mimetype": "text/x-python",
   "name": "python",
   "nbconvert_exporter": "python",
   "pygments_lexer": "ipython3",
   "version": "3.12.5"
  }
 },
 "nbformat": 4,
 "nbformat_minor": 2
}
