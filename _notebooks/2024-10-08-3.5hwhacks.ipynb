{
 "cells": [
  {
   "cell_type": "markdown",
   "metadata": {},
   "source": [
    "---\n",
    "layout: post\n",
    "title: 3.5 HW Hacks\n",
    "toc: true\n",
    "comments: true\n",
    "---"
   ]
  },
  {
   "cell_type": "markdown",
   "metadata": {},
   "source": [
    "Rhea Rajashekhar P4 Popcorn Hacks 3.5"
   ]
  },
  {
   "cell_type": "code",
   "execution_count": null,
   "metadata": {},
   "outputs": [],
   "source": [
    "# Popcorn Hack 1: Check Number\n",
    "def check_number():\n",
    "    try:\n",
    "        num = float(input(\"Enter a number: \"))\n",
    "        print(f\"The number {num} is {'negative' if num < 0 else 'non-negative'}.\")\n",
    "    except ValueError:\n",
    "        print(\"Invalid input. Please enter a valid number.\")"
   ]
  },
  {
   "cell_type": "code",
   "execution_count": null,
   "metadata": {},
   "outputs": [],
   "source": [
    "# Popcorn Hack 2: Check Scores\n",
    "def check_scores():\n",
    "    try:\n",
    "        scores = [float(input(f\"Enter the score for subject {i + 1}: \")) for i in range(2)]\n",
    "        print(\"The student passed both subjects.\" if all(score >= 70 for score in scores) else \"The student did not pass both subjects.\")\n",
    "    except ValueError:\n",
    "        print(\"Invalid input. Please enter valid scores.\")"
   ]
  },
  {
   "cell_type": "code",
   "execution_count": null,
   "metadata": {},
   "outputs": [],
   "source": [
    "# Popcorn Hack 3: Check Vowel\n",
    "def check_vowel():\n",
    "    char = input(\"Enter a character: \").lower()\n",
    "    print(f\"The character '{char}' is {'a vowel' if len(char) == 1 and char in 'aeiou' else 'not a vowel or not valid input'}.\")\n"
   ]
  },
  {
   "cell_type": "code",
   "execution_count": null,
   "metadata": {},
   "outputs": [],
   "source": [
    "# Homework 1: Truth Table\n",
    "cuisine_data = [\n",
    "    {\"Cuisine\": \"Italian\", \"Common Food Form\": \"Pizza\", \"Country of Origin\": \"Italy\"},\n",
    "    {\"Cuisine\": \"Chinese\", \"Common Food Form\": \"Noodles\", \"Country of Origin\": \"China\"},\n",
    "    {\"Cuisine\": \"Mexican\", \"Common Food Form\": \"Tacos\", \"Country of Origin\": \"Mexico\"},\n",
    "    {\"Cuisine\": \"Indian\", \"Common Food Form\": \"Curry\", \"Country of Origin\": \"India\"},\n",
    "    {\"Cuisine\": \"Japanese\", \"Common Food Form\": \"Sushi\", \"Country of Origin\": \"Japan\"},\n",
    "    {\"Cuisine\": \"American\", \"Common Food Form\": \"Burger\", \"Country of Origin\": \"United States\"},\n",
    "]\n",
    "\n",
    "# Print header and data\n",
    "print(f\"{'Cuisine':<15} {'Common Food Form':<20} {'Country of Origin':<20}\")\n",
    "print(\"=\"*55)\n",
    "for row in cuisine_data:\n",
    "    print(f\"{row['Cuisine']:<15} {row['Common Food Form']:<20} {row['Country of Origin']:<20}\")"
   ]
  },
  {
   "cell_type": "code",
   "execution_count": null,
   "metadata": {},
   "outputs": [],
   "source": [
    "# Homework 2: Game Using De Morgan’s Law\n",
    "def play_game():\n",
    "    print(\"Welcome to the High School Program Game!\")\n",
    "    in_ninth = input(\"Are you in 9th grade? (yes/no): \").lower() == \"yes\"\n",
    "    in_tenth = input(\"Are you in 10th grade? (yes/no): \").lower() == \"yes\"\n",
    "    in_eleventh = input(\"Are you in 11th grade? (yes/no): \").lower() == \"yes\"\n",
    "    in_twelfth = input(\"Are you in 12th grade? (yes/no): \").lower() == \"yes\"\n",
    "\n",
    "    if not (in_ninth or in_tenth) and (in_eleventh or in_twelfth):\n",
    "        print(\"Congratulations! You win! You're in 11th or 12th grade.\")\n",
    "    else:\n",
    "        print(\"Sorry, you do not qualify.\")"
   ]
  },
  {
   "cell_type": "code",
   "execution_count": null,
   "metadata": {
    "vscode": {
     "languageId": "javascript"
    }
   },
   "outputs": [],
   "source": [
    "%% js \n",
    "// JS Popcorn Hack 1: Outfit suggestion based on weather\n",
    "function suggestOutfit() {\n",
    "    let temperature = parseFloat(prompt(\"Enter the temperature (in °C):\"));\n",
    "    if (isNaN(temperature)) return alert(\"Please enter a valid number for the temperature.\");\n",
    "    \n",
    "    const outfits = [\n",
    "        { maxTemp: 40, outfit: \"Wear a heavy winter coat, scarf, gloves, and boots.\" },\n",
    "        { maxTemp: 60, outfit: \"Wear a jacket, sweater, and long pants.\" },\n",
    "        { maxTemp: 75, outfit: \"Wear a light jacket or a sweater, with jeans or casual pants.\" },\n",
    "        { maxTemp: 85, outfit: \"Wear a t-shirt, shorts, and comfortable shoes.\" },\n",
    "        { outfit: \"Wear light clothing like tank tops, shorts, and flip-flops.\" }\n",
    "    ];\n",
    "    const suggestion = outfits.find(o => o.maxTemp === undefined || temperature <= o.maxTemp);\n",
    "    alert(suggestion.outfit);\n",
    "}"
   ]
  },
  {
   "cell_type": "code",
   "execution_count": null,
   "metadata": {
    "vscode": {
     "languageId": "javascript"
    }
   },
   "outputs": [],
   "source": [
    "%% js \n",
    "// JS Popcorn Hack 2: Which number is bigger?\n",
    "function sortNumbersAndFindLargest(numbers) {\n",
    "    const largest = Math.max(...numbers);\n",
    "    const sortedNumbers = numbers.slice().sort((a, b) => a - b);\n",
    "    console.log(\"Sorted Numbers (Least to Greatest):\", sortedNumbers);\n",
    "    console.log(\"Largest Number:\", largest);\n",
    "}"
   ]
  },
  {
   "cell_type": "code",
   "execution_count": null,
   "metadata": {
    "vscode": {
     "languageId": "javascript"
    }
   },
   "outputs": [],
   "source": [
    "%% js \n",
    "// JS Popcorn Hack 3: Even or Odd?\n",
    "function checkEvenOrOdd() {\n",
    "    let number = parseInt(prompt(\"Enter a number:\"));\n",
    "    if (isNaN(number)) return alert(\"Please enter a valid number.\");\n",
    "    alert(number % 2 === 0 ? `${number} is an even number.` : `${number} is an odd number.`);\n",
    "}"
   ]
  }
 ],
 "metadata": {
  "language_info": {
   "name": "python"
  }
 },
 "nbformat": 4,
 "nbformat_minor": 2
}
