{
 "cells": [
  {
   "cell_type": "markdown",
   "metadata": {},
   "source": [
    "---\n",
    "layout: post\n",
    "title: 3.8 HW Hacks\n",
    "toc: true\n",
    "comments: true\n",
    "---"
   ]
  },
  {
   "cell_type": "markdown",
   "metadata": {},
   "source": []
  },
  {
   "cell_type": "code",
   "execution_count": null,
   "metadata": {},
   "outputs": [],
   "source": [
    "# python homework 1: password check\n",
    "def is_valid_password(password):\n",
    "    has_upper = any(c.isupper() for c in password)\n",
    "    has_lower = any(c.islower() for c in password)\n",
    "    has_number = any(c.isdigit() for c in password)\n",
    "    has_special = any(c in '!@#$%^&*(),.?\":{}|<>' for c in password)\n",
    "    no_spaces = ' ' not in password\n",
    "    long_enough = len(password) >= 10\n",
    "    no_consecutive_chars = not any(password[i] == password[i+1] == password[i+2] == password[i+3] for i in range(len(password)-3))\n",
    "    \n",
    "    return has_upper and has_lower and has_number and has_special and no_spaces and long_enough and no_consecutive_chars\n",
    "\n",
    "def create_password():\n",
    "    password = input(\"Enter your password: \")\n",
    "    \n",
    "    if is_valid_password(password):\n",
    "        print(\"Your password is valid!\")\n",
    "    else:\n",
    "        print(\"Invalid password. Follow these rules:\")\n",
    "        print(\"1. At least 10 characters long.\")\n",
    "        print(\"2. Contains uppercase and lowercase letters.\")\n",
    "        print(\"3. Has at least one number.\")\n",
    "        print(\"4. No spaces.\")\n",
    "        print(\"5. Includes at least 1 special character.\")\n",
    "        print(\"6. No more than 3 identical consecutive characters.\")\n",
    "\n",
    "create_password()"
   ]
  },
  {
   "cell_type": "code",
   "execution_count": null,
   "metadata": {
    "vscode": {
     "languageId": "javascript"
    }
   },
   "outputs": [],
   "source": [
    "%% js \n",
    "function isPasswordValid(password) {\n",
    "    const hasUpper = /[A-Z]/.test(password);\n",
    "    const hasLower = /[a-z]/.test(password);\n",
    "    const hasNum = /\\d/.test(password);\n",
    "    const hasSpecial = /[!@#$%^&*(),.?\":{}|<>]/.test(password);\n",
    "    const noSpaces = !/\\s/.test(password);\n",
    "    const lengthEnough = password.length >= 10;\n",
    "    const noConsecutiveChars = !/(.)\\1\\1\\1/.test(password);  // Max 3 same characters\n",
    "\n",
    "    return hasUpper && hasLower && hasNum && hasSpecial && noSpaces && lengthEnough && noConsecutiveChars;\n",
    "}\n",
    "\n",
    "function createPassword() {\n",
    "    const password = prompt(\"Enter your password:\");\n",
    "    \n",
    "    if (isPasswordValid(password)) {\n",
    "        console.log(\"Valid password!\");\n",
    "    } else {\n",
    "        console.log(\"Invalid password. Please meet the following:\");\n",
    "        console.log(\"1. 10+ characters long.\");\n",
    "        console.log(\"2. Contains uppercase & lowercase letters.\");\n",
    "        console.log(\"3. Has at least one number.\");\n",
    "        console.log(\"4. No spaces.\");\n",
    "        console.log(\"5. At least one special character.\");\n",
    "        console.log(\"6. No more than 3 identical consecutive characters.\");\n",
    "    }\n",
    "}\n",
    "\n",
    "createPassword();"
   ]
  }
 ],
 "metadata": {
  "language_info": {
   "name": "python"
  }
 },
 "nbformat": 4,
 "nbformat_minor": 2
}
