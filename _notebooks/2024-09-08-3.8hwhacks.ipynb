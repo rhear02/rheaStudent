{
 "cells": [
  {
   "cell_type": "markdown",
   "metadata": {},
   "source": [
    "---\n",
    "layout: post\n",
    "title: 3.8 HW Hacks\n",
    "toc: true\n",
    "comments: true\n",
    "---"
   ]
  },
  {
   "cell_type": "markdown",
   "metadata": {},
   "source": [
    "Rhea Rajashekhar P4 Popcorn Hacks 3.8"
   ]
  },
  {
   "cell_type": "code",
   "execution_count": null,
   "metadata": {},
   "outputs": [],
   "source": [
    "\n",
    "Copy code\n",
    "# Counter variable\n",
    "count = 0\n",
    "\n",
    "# Start the while loop\n",
    "while count < 5:\n",
    "    print(\"hello\")\n",
    "    count += 1  # Increment the counter"
   ]
  },
  {
   "cell_type": "code",
   "execution_count": null,
   "metadata": {},
   "outputs": [],
   "source": [
    "# Initialize a counter for the outer loop\n",
    "outer_count = 0\n",
    "\n",
    "# Start the outer loop to repeat the whole sequence 4 times\n",
    "while outer_count < 4:\n",
    "    # Print first name once\n",
    "    first_name_count = 0\n",
    "    while first_name_count < 1:\n",
    "        print(\"Rhea\")\n",
    "        first_name_count += 1\n",
    "\n",
    "    # Print middle name as a space twice\n",
    "    middle_name_count = 0\n",
    "    while middle_name_count < 2:\n",
    "        print(\" \")\n",
    "        middle_name_count += 1\n",
    "\n",
    "    # Print last name three times\n",
    "    last_name_count = 0\n",
    "    while last_name_count < 3:\n",
    "        print(\"Rajashekhar\")\n",
    "        last_name_count += 1\n",
    "\n",
    "    # Increment the outer loop counter\n",
    "    outer_count += 1"
   ]
  },
  {
   "cell_type": "code",
   "execution_count": null,
   "metadata": {},
   "outputs": [],
   "source": [
    "# Iterate and print each letter in the name\n",
    "for letter in \"Rhea\":\n",
    "    print(letter)"
   ]
  },
  {
   "cell_type": "code",
   "execution_count": null,
   "metadata": {},
   "outputs": [],
   "source": [
    "# Create a dictionary\n",
    "student_grades = {\n",
    "    \"Student 1\": \"A\",\n",
    "    \"Student 2\": \"B+\",\n",
    "    \"Student 3\": \"A-\",\n",
    "    \"Student 4\": \"B\",\n",
    "    \"Student 5\": \"A+\"\n",
    "}\n",
    "\n",
    "# Loop through each key-value pair\n",
    "for student, grade in student_grades.items():\n",
    "    print(f\"{student} received a grade of {grade}. Great job!\")"
   ]
  },
  {
   "cell_type": "code",
   "execution_count": null,
   "metadata": {},
   "outputs": [],
   "source": [
    "# python homework 1: password check\n",
    "def is_valid_password(password):\n",
    "    has_upper = any(c.isupper() for c in password)\n",
    "    has_lower = any(c.islower() for c in password)\n",
    "    has_number = any(c.isdigit() for c in password)\n",
    "    has_special = any(c in '!@#$%^&*(),.?\":{}|<>' for c in password)\n",
    "    no_spaces = ' ' not in password\n",
    "    long_enough = len(password) >= 10\n",
    "    no_consecutive_chars = not any(password[i] == password[i+1] == password[i+2] == password[i+3] for i in range(len(password)-3))\n",
    "    \n",
    "    return has_upper and has_lower and has_number and has_special and no_spaces and long_enough and no_consecutive_chars\n",
    "\n",
    "def create_password():\n",
    "    password = input(\"Enter your password: \")\n",
    "    \n",
    "    if is_valid_password(password):\n",
    "        print(\"Your password is valid!\")\n",
    "    else:\n",
    "        print(\"Invalid password. Follow these rules:\")\n",
    "        print(\"1. At least 10 characters long.\")\n",
    "        print(\"2. Contains uppercase and lowercase letters.\")\n",
    "        print(\"3. Has at least one number.\")\n",
    "        print(\"4. No spaces.\")\n",
    "        print(\"5. Includes at least 1 special character.\")\n",
    "        print(\"6. No more than 3 identical consecutive characters.\")\n",
    "\n",
    "create_password()"
   ]
  },
  {
   "cell_type": "code",
   "execution_count": null,
   "metadata": {},
   "outputs": [],
   "source": [
    "# Ask the user for their name\n",
    "user_name = input(\"Rhea: \")\n",
    "\n",
    "# Iterate through each letter in the name\n",
    "for letter in user_name:\n",
    "    print(letter)"
   ]
  },
  {
   "cell_type": "code",
   "execution_count": null,
   "metadata": {},
   "outputs": [],
   "source": [
    "# Define a list of fruits\n",
    "fruits = [\"Apple\", \"Banana\", \"Orange\", \"Mango\", \"Grapes\", \"Pineapple\", \"Strawberry\"]\n",
    "\n",
    "# Loop through the list and print each fruit\n",
    "for fruit in fruits:\n",
    "    print(fruit)"
   ]
  },
  {
   "cell_type": "code",
   "execution_count": null,
   "metadata": {
    "vscode": {
     "languageId": "javascript"
    }
   },
   "outputs": [],
   "source": [
    "%% js \n",
    "// Initialize a counter variable\n",
    "let count = 0;\n",
    "\n",
    "// Start the while loop\n",
    "while (count < 5) {\n",
    "    console.log(\"hello\");\n",
    "    count++;  // Increment the counter\n",
    "}"
   ]
  },
  {
   "cell_type": "code",
   "execution_count": null,
   "metadata": {
    "vscode": {
     "languageId": "javascript"
    }
   },
   "outputs": [],
   "source": [
    "%% js \n",
    "// Iterate through each letter in the name\n",
    "for (let letter of \"Rhea\") {\n",
    "    console.log(letter);\n",
    "}"
   ]
  },
  {
   "cell_type": "code",
   "execution_count": null,
   "metadata": {
    "vscode": {
     "languageId": "javascript"
    }
   },
   "outputs": [],
   "source": [
    "%% js \n",
    "// Set the correct password\n",
    "let correctPassword = \"javascript\";\n",
    "\n",
    "// Variable to control the loop\n",
    "let isPasswordCorrect = false;\n",
    "\n",
    "// Simulate a password checking loop\n",
    "while (!isPasswordCorrect) {\n",
    "    let userInput = prompt(\"Please enter the password:\");\n",
    "\n",
    "    if (userInput === correctPassword) {\n",
    "        console.log(\"The password is correct!\");\n",
    "        isPasswordCorrect = true;  // Exit the loop\n",
    "    } else {\n",
    "        console.log(\"Incorrect password, please try again.\");\n",
    "    }\n",
    "}"
   ]
  },
  {
   "cell_type": "code",
   "execution_count": null,
   "metadata": {
    "vscode": {
     "languageId": "javascript"
    }
   },
   "outputs": [],
   "source": [
    "%% js \n",
    "// Create an object with key-value pairs\n",
    "let studentGrades = {\n",
    "    \"Student 1\": \"A\",\n",
    "    \"Student 2\": \"B+\",\n",
    "    \"Student 3\": \"A-\",\n",
    "    \"Student 4\": \"B\",\n",
    "    \"Student 5\": \"A+\"\n",
    "};\n",
    "\n",
    "// Loop through each key-value pair using for...in loop\n",
    "for (let student in studentGrades) {\n",
    "    console.log(`${student} received a grade of ${studentGrades[student]}. Great job!`);\n",
    "}"
   ]
  }
 ],
 "metadata": {
  "language_info": {
   "name": "python"
  }
 },
 "nbformat": 4,
 "nbformat_minor": 2
}
