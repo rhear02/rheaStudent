{
 "cells": [
  {
   "cell_type": "markdown",
   "metadata": {},
   "source": [
    "---\n",
    "toc: true\n",
    "comments: true\n",
    "layout: post\n",
    "title: sprint 4 college board mcq\n",
    "---"
   ]
  },
  {
   "cell_type": "code",
   "execution_count": null,
   "metadata": {
    "vscode": {
     "languageId": "plaintext"
    }
   },
   "outputs": [],
   "source": [
    "What I learned from the quiz: I learned what topics I struggle with and\n",
    "what topics are more clear to me. For example, I understand problems about\n",
    "the basics programming concepts like booleans and for and while loops. Aditionally,\n",
    "I am more aware of what type of questions I can expect to see on the AP exam in May.\n",
    "This college board mcq will set me up for success because the more I practice the more\n",
    "capable I am of having better performance and achieving the score I wan't. Now I know to\n",
    "focus my time on specific topics like alogirithims. I understand the format of the exam and \n",
    "how to utilitze my problem solving skills for each question.\n",
    "\n",
    "My weaknesses: Some topics I struggled with were implementing algorithims, using abstractions, investigating computing\n",
    "innovations, and designing and evaluating computational solutions for a purpose. Aditionally, in general I tend\n",
    "to find word problems tricky because they require a bit more reading and understanding. Most of the problems took me quite\n",
    "a bit of time, So I have to make sure that I am not going over the time limit or I won't finish all the mc questions on the\n",
    "AP exam. I think collegeboards anaylsis of what topics and questions I need to focus on is very helpful for narrowing\n",
    "down where I should put my time and effort specifically into.\n",
    "\n",
    "Test corrections (score 44/66):\n",
    "\n",
    "Analytics: The topics I most struggled with Binary Numbers (50%), Boolean expressions (33%), calling procedures (40%), iteration (50%), safe computing (33%), \n",
    "and random values (50%). I got these questions wrong since I only know the basic idea of each topic and not an in depth explanation. Since this is my first csp collegeboard\n",
    "practice MC, my score isn't where I wan't it right now. By putting in even more effort in trimester 2 and trimester 3, I am hopeful that I will be able to\n",
    "improve my score over time with help through my teachers and peers. I plan to be more active in discussions and ask more questions to help clarify my\n",
    "understanding. Also, I've learned how to eliminate answers while taking the mc rather than finding the right answer. \n",
    "\n",
    "For Booleans and Binary numbers I went back and referenced sprint 2, specifically the lesson for 3.5 and 3.3 to solidify my understanding and clear up\n",
    "some misconceptions I previously had. I learned that Relational operators in JavaScript are used to compare two values, returning a Boolean value (true or false)\n",
    "based on the relationship. Aditionally, I learned that Binary numbers consist of 0 and 1 and each binary number is called a bit and the position of each bit determines\n",
    "it's value. This information was very interesting to me since I was able to work at my own pace and even try a couple of practice problems (Popcorn hacks) made my other \n",
    "students in AP Computer Science.\n",
    "\n",
    "For calling procedures and safe computing I watched videos on college board, specifically Unit 3 (Algorithims and Programming) and Unit 4 (computing systems and networks).\n",
    "Through these videos, I learned how procedures help break down code into reusable code and how networks function and the role of protocols in ensuring data is transmitted \n",
    "safely. By watching these videos, I am able to better understand the pattern recognition that occurs and focus on fundamental concepts that consistently show \n",
    "up on the test. I overall really enjoyed this experience and look forward to taking future mcq practice tests."
   ]
  }
 ],
 "metadata": {
  "language_info": {
   "name": "python"
  }
 },
 "nbformat": 4,
 "nbformat_minor": 2
}
