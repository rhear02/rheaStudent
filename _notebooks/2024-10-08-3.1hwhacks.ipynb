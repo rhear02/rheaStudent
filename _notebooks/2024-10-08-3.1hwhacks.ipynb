{
 "cells": [
  {
   "cell_type": "markdown",
   "metadata": {},
   "source": [
    "---\n",
    "layout: post\n",
    "title: 3.1 HW Hacks\n",
    "toc: true\n",
    "comments: true\n",
    "---"
   ]
  },
  {
   "cell_type": "raw",
   "metadata": {
    "vscode": {
     "languageId": "raw"
    }
   },
   "source": [
    "Rhea Rajashekhar P4 Popcorn Hacks 3.1 variables"
   ]
  },
  {
   "cell_type": "code",
   "execution_count": null,
   "metadata": {},
   "outputs": [],
   "source": [
    "# Python Popcorn Hack 1: Team Variables\n",
    "seat_one = \"Gaheera\"\n",
    "seat_two = \"Rhea\"\n",
    "seat_three = \"Hannah\"\n",
    "seat_four = \"Rowan\"\n",
    "print(seat_one, seat_two, seat_three, seat_four)"
   ]
  },
  {
   "cell_type": "code",
   "execution_count": null,
   "metadata": {},
   "outputs": [],
   "source": [
    "# Python Popcorn Hack 2: Fruit Dictionary\n",
    "fruits = {\n",
    "    \"apple\": {\n",
    "        \"color\": \"red\",\n",
    "        \"taste\": \"sweet\",\n",
    "        \"season\": \"fall\",\n",
    "        \"description\": \"Apples are crunchy and sweet. They are often used in pies and desserts.\"\n",
    "    },\n",
    "    \"banana\": {\n",
    "        \"color\": \"yellow\",\n",
    "        \"taste\": \"sweet\",\n",
    "        \"season\": \"year-round\",\n",
    "        \"description\": \"Bananas are soft and sweet. They are great as a snack or in banana bread and smoothies. They are excellent sources of potassium.\"\n",
    "    },\n",
    "    \"orange\": {\n",
    "        \"color\": \"orange\",\n",
    "        \"taste\": \"citrus\",\n",
    "        \"season\": \"winter\",\n",
    "        \"description\": \"Oranges are juicy and tangy. They are full of vitamin C and perfect for juice.\"\n",
    "    }\n",
    "}\n",
    "print(fruits[\"banana\"][\"description\"])"
   ]
  },
  {
   "cell_type": "code",
   "execution_count": null,
   "metadata": {},
   "outputs": [],
   "source": [
    "# Python Popcorn Hack 3: Student Scores\n",
    "scores = [75, 90, 78, 82, 98]  # List of scores\n",
    "total_score = sum(scores)  # Calculate total score\n",
    "average_grade = total_score / len(scores)  # Calculate average\n",
    "\n",
    "# Define student information\n",
    "student_name = \"Gaheera\"\n",
    "student_age = 17\n",
    "\n",
    "# Display student details\n",
    "print(f\"Student Name: {student_name}\")\n",
    "print(f\"Student Age: {student_age}\")\n",
    "print(f\"Average Grade: {average_grade:.2f}\")"
   ]
  },
  {
   "cell_type": "code",
   "execution_count": null,
   "metadata": {
    "vscode": {
     "languageId": "javascript"
    }
   },
   "outputs": [],
   "source": [
    "%% js \n",
    "// Function to create a sentence\n",
    "function createSentence() {\n",
    "    return `Hi, my name is ${name}. I am ${age} years old, and I love ${favoriteFruit}. I currently go to ${school}.`;\n",
    "}\n",
    "\n",
    "// Log the sentence to the console\n",
    "console.log(createSentence());\n",
    "\n",
    "// Changing values of the variables declared with 'let'\n",
    "age = 18;\n",
    "console.log(createSentence());\n",
    "\n",
    "// Popcorn Hack 2: Student Scores\n",
    "let scores = [75, 90, 78, 82, 98]; // Array of scores\n",
    "let totalScore = scores.reduce((acc, score) => acc + score, 0); // Calculate total score\n",
    "let averageGrade = totalScore / scores.length; // Calculate average\n",
    "\n",
    "// Display student details in the document body\n",
    "document.body.innerHTML = `\n",
    "  <h3>Student Info</h3>\n",
    "  <p>Student Name: ${name}</p>\n",
    "  <p>Student Age: ${age}</p>\n",
    "  <p>Average Grade: ${averageGrade.toFixed(2)}</p>\n",
    "`;"
   ]
  }
 ],
 "metadata": {
  "language_info": {
   "name": "python"
  }
 },
 "nbformat": 4,
 "nbformat_minor": 2
}
