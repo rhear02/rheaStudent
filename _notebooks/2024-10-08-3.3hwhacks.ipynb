{
 "cells": [
  {
   "cell_type": "markdown",
   "metadata": {},
   "source": [
    "---\n",
    "layout: post\n",
    "title: 3.3 HW Hacks\n",
    "toc: true\n",
    "comments: true\n",
    "---"
   ]
  },
  {
   "cell_type": "markdown",
   "metadata": {},
   "source": [
    "Rhea Rajashekhar P4 Popcorn Hacks 3.3"
   ]
  },
  {
   "cell_type": "code",
   "execution_count": null,
   "metadata": {},
   "outputs": [],
   "source": [
    "# Popcorn Hack 1: Prompt the user to enter a number n. Initialize total_sum to 0. Use a loop to iterate from 1 to n. Add each number to total_sum. Print the total_sum. (Python)\n",
    "\n",
    "# Function to get valid integer input\n",
    "def get_integer_input():\n",
    "    while True:\n",
    "        try:\n",
    "            n = int(input(\"Please enter a positive integer: \"))\n",
    "            if n > 0:  # Ensure the number is positive\n",
    "                return n\n",
    "            else:\n",
    "                print(\"Please enter a positive integer.\")\n",
    "        except ValueError:\n",
    "            print(\"Invalid input. Please enter a valid integer.\")\n",
    "\n",
    "# Get a valid number from the user\n",
    "n = get_integer_input()\n",
    "\n",
    "# Initialize total_sum to 0\n",
    "total_sum = sum(range(1, n + 1))  # Using sum and range for a concise approach\n",
    "\n",
    "# Print the total_sum\n",
    "print(\"The total sum from 1 to\", n, \"is:\", total_sum)"
   ]
  },
  {
   "cell_type": "code",
   "execution_count": null,
   "metadata": {},
   "outputs": [],
   "source": [
    "# Homework Hack 1: Compute mean and median\n",
    "import statistics\n",
    "\n",
    "def compute_statistics(numbers):\n",
    "    mean = statistics.mean(numbers)\n",
    "    median = statistics.median(numbers)\n",
    "    print(f\"Arithmetic Mean: {mean}\")\n",
    "    print(f\"Median: {median}\")\n",
    "\n",
    "# Example usage\n",
    "data = [10, 20, 30, 40, 50]\n",
    "compute_statistics(data)\n",
    "\n",
    "# Function for the Collatz sequence\n",
    "def collatz_sequence(start):\n",
    "    sequence = [start]\n",
    "    while start != 1:\n",
    "        start = start // 2 if start % 2 == 0 else 3 * start + 1\n",
    "        sequence.append(start)\n",
    "    print(\"Collatz sequence:\", sequence)\n",
    "\n",
    "# Example usage\n",
    "collatz_sequence(13)\n"
   ]
  },
  {
   "cell_type": "code",
   "execution_count": null,
   "metadata": {
    "vscode": {
     "languageId": "javascript"
    }
   },
   "outputs": [],
   "source": [
    "%% js \n",
    "// Popcorn Hack 2: Create a function that uses 4 of the 5 basic arithmetic operations and returns the number 32 as the answer. (JavaScript)\n",
    "function computeThirtyTwo() {\n",
    "    // Using four arithmetic operations: +, -, *, /\n",
    "    let result = (8 * 5) - (4 / 2) + 6; // 8*5 = 40, 4/2 = 2, 40 - 2 + 6 = 44\n",
    "    result -= 12; // Final adjustment to get 32\n",
    "    return result;\n",
    "}\n",
    "\n",
    "// Call the function and log the result\n",
    "console.log(computeThirtyTwo()); // Output: 32"
   ]
  },
  {
   "cell_type": "code",
   "execution_count": null,
   "metadata": {
    "vscode": {
     "languageId": "javascript"
    }
   },
   "outputs": [],
   "source": [
    "%% js \n",
    "// Homework Hack 2: Compute GCD and LCM\n",
    "function calculateGCDAndLCM(x, y) {\n",
    "    // Helper function to compute GCD using the Euclidean algorithm\n",
    "    function findGCD(a, b) {\n",
    "        while (b !== 0) {\n",
    "            let temp = b;\n",
    "            b = a % b;\n",
    "            a = temp;\n",
    "        }\n",
    "        return a;\n",
    "    }\n",
    "    \n",
    "    let gcdValue = findGCD(x, y);\n",
    "    let lcmValue = Math.abs(x * y) / gcdValue;\n",
    "    \n",
    "    return {\n",
    "        gcd: gcdValue,\n",
    "        lcm: lcmValue\n",
    "    };\n",
    "}\n",
    "\n",
    "// Example usage\n",
    "console.log(calculateGCDAndLCM(12, 18)); // Output: { gcd: 6, lcm: 36 }\n"
   ]
  }
 ],
 "metadata": {
  "language_info": {
   "name": "python"
  }
 },
 "nbformat": 4,
 "nbformat_minor": 2
}
