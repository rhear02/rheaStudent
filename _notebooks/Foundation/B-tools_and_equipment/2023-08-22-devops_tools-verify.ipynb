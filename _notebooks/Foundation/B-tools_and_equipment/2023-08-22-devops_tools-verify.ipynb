{
 "cells": [
  {
   "attachments": {},
   "cell_type": "raw",
   "metadata": {
    "vscode": {
     "languageId": "raw"
    }
   },
   "source": [
    "---\n",
    "layout: post\n",
    "title: Tools Verify using Shell\n",
    "description: Linux and the shell is used in this example to setup and verify the installation of the tools.  Additionally, a few programming exercises are included.\n",
    "categories: [DevOps]\n",
    "permalink: /devops/tools/verify\n",
    "menu: nav/tools_setup.html\n",
    "toc: true\n",
    "comments: true\n",
    "---"
   ]
  },
  {
   "attachments": {},
   "cell_type": "markdown",
   "metadata": {},
   "source": [
    "## Computers and Terminals\n",
    "\n",
    "A brief overview of Terminal and Linux is a step on your way to becoming a Linux expert. When a computer boots up, **a kernel (MacOS, Windows, Linux) is started**. This kernel is the core of the operating system and manages hardware resources. Above the kernel, various applications run, including the **shell** and **terminal**, which allow users to interact with the system using a basic set of commands provided by the kernel.\n",
    "\n",
    "Typically, casual users interact with the system through a Desktop User Interface (UI) that is started by the computer's boot-up processes. However, to interact directly with the shell, users can run a \"terminal\" application through the Desktop UI. Additionally, **VS Code provides the ability to activate a \"terminal\"** within its editing environment, making it convenient for developers to execute commands without leaving the code editor.\n",
    "\n",
    "In this next phase, we will use a Jupyter notebook to perform Linux commands through a terminal. The Jupyter notebook is an application that runs above the kernel, providing an interactive environment for writing and executing code, including shell commands. This setup allows us to seamlessly integrate code execution, data analysis, and documentation in one place, enhancing our productivity and learning experience."
   ]
  },
  {
   "cell_type": "markdown",
   "metadata": {},
   "source": [
    "## Setup a Personal GitHub Pages Project\n",
    "\n",
    "You will be making a personal copy of the course repository. Be sure to have a GitHub account!!!\n",
    "\n",
    "- Use the **Green \"Use this Template\"** button on the [portfolio_2025](https://github.com/nighthawkcoders/portfolio_2025) repository page to set up your personal GitHub Pages repository.\n",
    "- Create a new repository.\n",
    "- Fill in the dialog and select the **Repository Name** to be under your GitHub ID ownership.\n",
    "\n",
    "    ![create repo]({{ site.baseurl }}/images/notebooks/foundation/create_repo.jpg)\n",
    "\n",
    "- After this is complete, use the **Green \"Code\"** button on the newly created repository page to capture your \"Project Repo\" name.\n",
    "\n",
    "In the next few code cells, we will run a bash (shell) script to pull a GitHub project. "
   ]
  },
  {
   "cell_type": "markdown",
   "metadata": {},
   "source": [
    "## Shell Script and Variables\n",
    "\n",
    "We will ultimately run a bash (shell) script to pull a GitHub project. This next script simply sets up the necessary **environment variables** to tell the script the location of repository from GitHub and where to copy the output.\n",
    "\n",
    "For now, focus on each line that begins with `export`. These are **shell variables**. Each line has a **name** (after the keyword `export`) and a **value** (after the equal sign).\n",
    "\n",
    "Here is a full description:\n",
    "\n",
    "- **Creates a temporary file** `/tmp/variables.sh` to store environment variables.\n",
    "- **Sets the `project_dir` variable** to your home directory with a subdirectory named `nighthawk`. You can change `nighthawk` to a different name to test your git clone.\n",
    "- **Sets the `project` variable** to a subdirectory within `project_dir` named `portfolio_2025`. You can change `portfolio_2025` to the name of your project.\n",
    "- **Sets the `project_repo` variable** to the URL of the GitHub repository. Change this to the project you created from the `portfolio_2025` template.\n",
    "\n",
    "**By running this script, you will prepare your environment for cloning** and working on your GitHub project. This is an essential step in setting up your development environment and ensuring that all dependencies are correctly configured."
   ]
  },
  {
   "cell_type": "code",
   "execution_count": 2,
   "metadata": {
    "vscode": {
     "languageId": "shellscript"
    }
   },
   "outputs": [],
   "source": [
    "%%script bash\n",
    "\n",
    "# Dependency Variables, set to match your project directories\n",
    "\n",
    "cat <<EOF > /tmp/variables.sh\n",
    "export project_dir=$HOME/rhearajashekhar/vscode  # change nighthawk to different name to test your git clone\n",
    "export project=\\$project_dir/rheaStudent  # change student_2025 to name of project from git clone\n",
    "export project_repo=\"https://github.com/nighthawkcoders/rheaStudent.git\"  # change to project you created from portfolio_2025 template \n",
    "EOF"
   ]
  },
  {
   "cell_type": "markdown",
   "metadata": {},
   "source": [
    "## Describing the Outputs of the Variables\n",
    "\n",
    "The next script will extract the saved variables and display their values. Here is a description of the commands:\n",
    "\n",
    "- The `source` command loads the variables that we saved in the `/tmp/variables.sh` file in the previous code cell.\n",
    "- The `echo` commands display the contents of the named variables:\n",
    "  - **project_dir**: The directory where your project is located.\n",
    "  - **project**: The specific project directory within `project_dir`.\n",
    "  - **project_repo**: The URL of the GitHub repository.\n",
    "\n",
    "By running this script, you can verify that the environment variables are correctly set in your development environment. If they don't match up, go back to the previous code cell and make the necessary corrections."
   ]
  },
  {
   "cell_type": "code",
   "execution_count": 3,
   "metadata": {
    "vscode": {
     "languageId": "shellscript"
    }
   },
   "outputs": [
    {
     "name": "stdout",
     "output_type": "stream",
     "text": [
      "Project dir: /Users/rhearajashekhar/rhearajashekhar/vscode\n",
      "Project: /Users/rhearajashekhar/rhearajashekhar/vscode/rheaStudent\n",
      "Repo: https://github.com/nighthawkcoders/rheaStudent.git\n"
     ]
    }
   ],
   "source": [
    "%%script bash\n",
    "\n",
    "# Extract saved variables\n",
    "source /tmp/variables.sh\n",
    "\n",
    "# Output shown title and value variables\n",
    "echo \"Project dir: $project_dir\"\n",
    "echo \"Project: $project\"\n",
    "echo \"Repo: $project_repo\""
   ]
  },
  {
   "cell_type": "markdown",
   "metadata": {},
   "source": [
    "## Project Setup and Analysis with Bash Scripts\n",
    "The bash scripts that follow automate what was done in the Tools Installation procedures with regards to cloning a GitHub project. Doing this in a script fashion adds the following benefits:\n",
    "\n",
    "- After completing these steps, we will have notes on how to set up and verify a project.\n",
    "- By reviewing these commands, you will start to learn the basics of Linux.\n",
    "- By setting up these code cells, you will be learning how to develop automated scripts using Shell programming.\n",
    "- You will learn that pretty much anything we type on a computer can be automated through the use of variables and a coding language."
   ]
  },
  {
   "attachments": {},
   "cell_type": "markdown",
   "metadata": {},
   "source": [
    "### Pull Code\n",
    "\n",
    "> Pull code from GitHub to your machine. This is a **bash script**, a sequence of commands, that will create a project directory and add the \"project\" from GitHub to the vscode directory. There is conditional logic to make sure that the clone only happens if it does not (!) exist. Here are some key elements in this code:\n",
    "\n",
    "- `cd` command (change directory), remember this from the terminal session.\n",
    "- `if` statements (conditional statements, called selection statements by College Board), code inside only happens if the condition is met.\n",
    "\n",
    "Run the script two times and you will see that the output changes.  In the second run, the files exist and it impact the flow of the code."
   ]
  },
  {
   "cell_type": "code",
   "execution_count": 4,
   "metadata": {
    "vscode": {
     "languageId": "shellscript"
    }
   },
   "outputs": [
    {
     "name": "stdout",
     "output_type": "stream",
     "text": [
      "Using conditional statement to create a project directory and project\n",
      "Directory /Users/rhearajashekhar/rhearajashekhar/vscode exists.\n",
      "Directory /Users/rhearajashekhar/rhearajashekhar/vscode/rheaStudent does not exist... cloning https://github.com/nighthawkcoders/rheaStudent.git\n"
     ]
    },
    {
     "name": "stderr",
     "output_type": "stream",
     "text": [
      "Cloning into 'rheaStudent'...\n",
      "remote: Repository not found.\n",
      "fatal: repository 'https://github.com/nighthawkcoders/rheaStudent.git/' not found\n"
     ]
    },
    {
     "name": "stdout",
     "output_type": "stream",
     "text": [
      "Directory /Users/rhearajashekhar/rhearajashekhar/vscode/rheaStudent exists.\n"
     ]
    }
   ],
   "source": [
    "%%script bash\n",
    "\n",
    "# Extract saved variables\n",
    "source /tmp/variables.sh\n",
    "\n",
    "echo \"Using conditional statement to create a project directory and project\"\n",
    "\n",
    "cd ~    # start in home directory\n",
    "\n",
    "# Conditional block to make a project directory\n",
    "if [ ! -d $project_dir ]\n",
    "then \n",
    "    echo \"Directory $project_dir does not exist... making directory $project_dir\"\n",
    "    mkdir -p $project_dir\n",
    "fi\n",
    "echo \"Directory $project_dir exists.\" \n",
    "\n",
    "# Conditional block to git clone a project from project_repo\n",
    "if [ ! -d $project ]\n",
    "then\n",
    "    echo \"Directory $project does not exist... cloning $project_repo\"\n",
    "    cd $project_dir\n",
    "    git clone $project_repo\n",
    "    cd ~\n",
    "fi\n",
    "echo \"Directory $project exists.\""
   ]
  },
  {
   "attachments": {},
   "cell_type": "markdown",
   "metadata": {},
   "source": [
    "### Look at Files in GitHub Project\n",
    "\n",
    "> All computers contain files and directories. The clone brought more files from the cloud to your machine. Review the bash shell script, observe the commands that show and interact with files and directories. These were used during setup.\n",
    "\n",
    "- `ls` lists computer files in Unix and Unix-like operating systems.\n",
    "- `cd` offers a way to navigate and change the working directory.\n",
    "- `pwd` prints the working directory.\n",
    "- `echo` is used to display a line of text/string that is passed as an argument."
   ]
  },
  {
   "cell_type": "code",
   "execution_count": 5,
   "metadata": {
    "vscode": {
     "languageId": "shellscript"
    }
   },
   "outputs": [
    {
     "name": "stdout",
     "output_type": "stream",
     "text": [
      "Navigate to project, then navigate to area wwhere files were cloned\n"
     ]
    },
    {
     "name": "stderr",
     "output_type": "stream",
     "text": [
      "bash: line 6: cd: /Users/rhearajashekhar/rhearajashekhar/vscode/rheaStudent: No such file or directory\n"
     ]
    },
    {
     "name": "stdout",
     "output_type": "stream",
     "text": [
      "/Users/rhearajashekhar/vscode/rheaStudent/_notebooks/Foundation/B-tools_and_equipment\n",
      "\n",
      "list top level or root of files with project pulled from github\n",
      "2023-08-19-devops_accounts.ipynb\n",
      "2023-08-21-devops_tools-home.ipynb\n",
      "2023-08-21-devops_tools-setup.ipynb\n",
      "2023-08-22-devops_tools-verify.ipynb\n",
      "2023-08-23-devops-githhub_pages-play.ipynb\n",
      "2023-08-23-devops-hacks.ipynb\n"
     ]
    }
   ],
   "source": [
    "%%script bash\n",
    "\n",
    "# Extract saved variables\n",
    "source /tmp/variables.sh\n",
    "\n",
    "echo \"Navigate to project, then navigate to area wwhere files were cloned\"\n",
    "cd $project\n",
    "pwd\n",
    "\n",
    "echo \"\"\n",
    "echo \"list top level or root of files with project pulled from github\"\n",
    "ls\n"
   ]
  },
  {
   "attachments": {},
   "cell_type": "markdown",
   "metadata": {},
   "source": [
    "### Look at File List with Hidden and Long Attributes\n",
    "\n",
    "> Most Linux commands have options to enhance behavior. The enhanced listing below shows permission bits, owner of the file, size, and date.\n",
    "\n",
    "Some useful `ls` flags:\n",
    "- `-a`: List all files including hidden files.\n",
    "- `-l`: List in long format.\n",
    "- `-h`: Human-readable file sizes.\n",
    "- `-t`: Sort by modification time.\n",
    "- `-R`: Reverse the order of the sort.\n",
    "\n",
    "[ls reference](https://www.rapidtables.com/code/linux/ls.html)"
   ]
  },
  {
   "cell_type": "code",
   "execution_count": 6,
   "metadata": {
    "vscode": {
     "languageId": "shellscript"
    }
   },
   "outputs": [
    {
     "name": "stdout",
     "output_type": "stream",
     "text": [
      "Navigate to project, then navigate to area wwhere files were cloned\n"
     ]
    },
    {
     "name": "stderr",
     "output_type": "stream",
     "text": [
      "bash: line 6: cd: /Users/rhearajashekhar/rhearajashekhar/vscode/rheaStudent: No such file or directory\n"
     ]
    },
    {
     "name": "stdout",
     "output_type": "stream",
     "text": [
      "/Users/rhearajashekhar/vscode/rheaStudent/_notebooks/Foundation/B-tools_and_equipment\n",
      "\n",
      "list all files in long format\n",
      "total 248\n",
      "drwxr-xr-x  8 rhearajashekhar  staff    256 Aug 23 08:48 \u001b[34m.\u001b[m\u001b[m\n",
      "drwxr-xr-x  5 rhearajashekhar  staff    160 Aug 23 08:48 \u001b[34m..\u001b[m\u001b[m\n",
      "-rw-r--r--  1 rhearajashekhar  staff   9767 Aug 23 08:48 2023-08-19-devops_accounts.ipynb\n",
      "-rw-r--r--  1 rhearajashekhar  staff   5931 Aug 23 08:48 2023-08-21-devops_tools-home.ipynb\n",
      "-rw-r--r--  1 rhearajashekhar  staff  22859 Aug 23 08:48 2023-08-21-devops_tools-setup.ipynb\n",
      "-rw-r--r--@ 1 rhearajashekhar  staff  35023 Aug 27 09:00 2023-08-22-devops_tools-verify.ipynb\n",
      "-rw-r--r--  1 rhearajashekhar  staff  32309 Aug 23 08:48 2023-08-23-devops-githhub_pages-play.ipynb\n",
      "-rw-r--r--  1 rhearajashekhar  staff   9478 Aug 23 08:48 2023-08-23-devops-hacks.ipynb\n"
     ]
    }
   ],
   "source": [
    "%%script bash\n",
    "\n",
    "# Extract saved variables\n",
    "source /tmp/variables.sh\n",
    "\n",
    "echo \"Navigate to project, then navigate to area wwhere files were cloned\"\n",
    "cd $project\n",
    "pwd\n",
    "\n",
    "echo \"\"\n",
    "echo \"list all files in long format\"\n",
    "ls -al   # all files -a (hidden) in -l long listing"
   ]
  },
  {
   "cell_type": "code",
   "execution_count": 7,
   "metadata": {
    "vscode": {
     "languageId": "shellscript"
    }
   },
   "outputs": [
    {
     "name": "stdout",
     "output_type": "stream",
     "text": [
      "Look for posts\n"
     ]
    },
    {
     "name": "stderr",
     "output_type": "stream",
     "text": [
      "bash: line 7: cd: /Users/rhearajashekhar/rhearajashekhar/vscode/rheaStudent/_posts: No such file or directory\n"
     ]
    },
    {
     "name": "stdout",
     "output_type": "stream",
     "text": [
      "/Users/rhearajashekhar/vscode/rheaStudent/_notebooks/Foundation/B-tools_and_equipment\n",
      "total 248\n",
      "-rw-r--r--  1 rhearajashekhar  staff   9767 Aug 23 08:48 2023-08-19-devops_accounts.ipynb\n",
      "-rw-r--r--  1 rhearajashekhar  staff   5931 Aug 23 08:48 2023-08-21-devops_tools-home.ipynb\n",
      "-rw-r--r--  1 rhearajashekhar  staff  22859 Aug 23 08:48 2023-08-21-devops_tools-setup.ipynb\n",
      "-rw-r--r--@ 1 rhearajashekhar  staff  35023 Aug 27 09:00 2023-08-22-devops_tools-verify.ipynb\n",
      "-rw-r--r--  1 rhearajashekhar  staff  32309 Aug 23 08:48 2023-08-23-devops-githhub_pages-play.ipynb\n",
      "-rw-r--r--  1 rhearajashekhar  staff   9478 Aug 23 08:48 2023-08-23-devops-hacks.ipynb\n"
     ]
    }
   ],
   "source": [
    "%%script bash\n",
    "\n",
    "# Extract saved variables\n",
    "source /tmp/variables.sh\n",
    "\n",
    "echo \"Look for posts\"\n",
    "export posts=$project/_posts  # _posts inside project\n",
    "cd $posts  # this should exist per fastpages\n",
    "pwd  # present working directory\n",
    "ls -lR  # list posts recursively"
   ]
  },
  {
   "cell_type": "code",
   "execution_count": 8,
   "metadata": {
    "vscode": {
     "languageId": "shellscript"
    }
   },
   "outputs": [
    {
     "name": "stdout",
     "output_type": "stream",
     "text": [
      "Look for notebooks\n"
     ]
    },
    {
     "name": "stderr",
     "output_type": "stream",
     "text": [
      "bash: line 7: cd: /Users/rhearajashekhar/rhearajashekhar/vscode/rheaStudent/_notebooks: No such file or directory\n"
     ]
    },
    {
     "name": "stdout",
     "output_type": "stream",
     "text": [
      "/Users/rhearajashekhar/vscode/rheaStudent/_notebooks/Foundation/B-tools_and_equipment\n",
      "total 248\n",
      "-rw-r--r--  1 rhearajashekhar  staff   9767 Aug 23 08:48 2023-08-19-devops_accounts.ipynb\n",
      "-rw-r--r--  1 rhearajashekhar  staff   5931 Aug 23 08:48 2023-08-21-devops_tools-home.ipynb\n",
      "-rw-r--r--  1 rhearajashekhar  staff  22859 Aug 23 08:48 2023-08-21-devops_tools-setup.ipynb\n",
      "-rw-r--r--@ 1 rhearajashekhar  staff  35023 Aug 27 09:00 2023-08-22-devops_tools-verify.ipynb\n",
      "-rw-r--r--  1 rhearajashekhar  staff  32309 Aug 23 08:48 2023-08-23-devops-githhub_pages-play.ipynb\n",
      "-rw-r--r--  1 rhearajashekhar  staff   9478 Aug 23 08:48 2023-08-23-devops-hacks.ipynb\n"
     ]
    }
   ],
   "source": [
    "%%script bash\n",
    "\n",
    "# Extract saved variables\n",
    "source /tmp/variables.sh\n",
    "\n",
    "echo \"Look for notebooks\"\n",
    "export notebooks=$project/_notebooks  # _notebooks is inside project\n",
    "cd $notebooks   # this should exist per fastpages\n",
    "pwd  # present working directory\n",
    "ls -lR  # list notebooks recursively"
   ]
  },
  {
   "cell_type": "code",
   "execution_count": 9,
   "metadata": {
    "vscode": {
     "languageId": "shellscript"
    }
   },
   "outputs": [
    {
     "name": "stdout",
     "output_type": "stream",
     "text": [
      "Look for images, print working directory, list files\n"
     ]
    },
    {
     "name": "stderr",
     "output_type": "stream",
     "text": [
      "bash: line 6: cd: /Users/rhearajashekhar/rhearajashekhar/vscode/rheaStudent/images: No such file or directory\n"
     ]
    },
    {
     "name": "stdout",
     "output_type": "stream",
     "text": [
      "/Users/rhearajashekhar/vscode/rheaStudent/_notebooks/Foundation/B-tools_and_equipment\n",
      "total 248\n",
      "-rw-r--r--  1 rhearajashekhar  staff   9767 Aug 23 08:48 2023-08-19-devops_accounts.ipynb\n",
      "-rw-r--r--  1 rhearajashekhar  staff   5931 Aug 23 08:48 2023-08-21-devops_tools-home.ipynb\n",
      "-rw-r--r--  1 rhearajashekhar  staff  22859 Aug 23 08:48 2023-08-21-devops_tools-setup.ipynb\n",
      "-rw-r--r--@ 1 rhearajashekhar  staff  35023 Aug 27 09:00 2023-08-22-devops_tools-verify.ipynb\n",
      "-rw-r--r--  1 rhearajashekhar  staff  32309 Aug 23 08:48 2023-08-23-devops-githhub_pages-play.ipynb\n",
      "-rw-r--r--  1 rhearajashekhar  staff   9478 Aug 23 08:48 2023-08-23-devops-hacks.ipynb\n"
     ]
    }
   ],
   "source": [
    "%%script bash\n",
    "\n",
    "# Extract saved variables\n",
    "source /tmp/variables.sh\n",
    "\n",
    "echo \"Look for images, print working directory, list files\"\n",
    "cd $project/images  # this should exist per fastpages\n",
    "pwd\n",
    "ls -lR"
   ]
  },
  {
   "attachments": {},
   "cell_type": "markdown",
   "metadata": {},
   "source": [
    "### Look inside a Markdown File\n",
    "> \"cat\" reads data from the file and gives its content as output"
   ]
  },
  {
   "cell_type": "code",
   "execution_count": 10,
   "metadata": {
    "vscode": {
     "languageId": "shellscript"
    }
   },
   "outputs": [
    {
     "name": "stdout",
     "output_type": "stream",
     "text": [
      "Navigate to project, then navigate to area wwhere files were cloned\n"
     ]
    },
    {
     "name": "stderr",
     "output_type": "stream",
     "text": [
      "bash: line 7: cd: /Users/rhearajashekhar/rhearajashekhar/vscode/rheaStudent: No such file or directory\n"
     ]
    },
    {
     "name": "stdout",
     "output_type": "stream",
     "text": [
      "show the contents of README.md\n",
      "\n"
     ]
    },
    {
     "name": "stderr",
     "output_type": "stream",
     "text": [
      "cat: README.md: No such file or directory\n"
     ]
    },
    {
     "name": "stdout",
     "output_type": "stream",
     "text": [
      "\n",
      "end of README.md\n"
     ]
    }
   ],
   "source": [
    "%%script bash\n",
    "\n",
    "# Extract saved variables\n",
    "source /tmp/variables.sh\n",
    "\n",
    "echo \"Navigate to project, then navigate to area wwhere files were cloned\"\n",
    "\n",
    "cd $project\n",
    "echo \"show the contents of README.md\"\n",
    "echo \"\"\n",
    "\n",
    "cat README.md  # show contents of file, in this case markdown\n",
    "echo \"\"\n",
    "echo \"end of README.md\"\n"
   ]
  },
  {
   "attachments": {},
   "cell_type": "markdown",
   "metadata": {},
   "source": [
    "## Env, Git, and GitHub\n",
    "\n",
    "> Env(ironment) is used to capture things like the path to the Code or Home directory. Git and GitHub are not only used to exchange code between individuals but are also often used to exchange code through servers, in our case for website deployment. All tools we use have behind-the-scenes relationships with the system they run on (MacOS, Windows, Linux) or a relationship with servers to which they are connected (e.g., GitHub). There is an \"env\" command in bash. There are environment files and setting files (e.g., `.git/config`) for Git. They both use a key/value concept.\n",
    "\n",
    "- `env` shows settings for your shell.\n",
    "- `git clone` sets up a directory of files.\n",
    "- `cd $project` allows the user to move inside that directory of files.\n",
    "- `.git` is a hidden directory that is used by Git to establish a relationship between the machine and the Git server on GitHub."
   ]
  },
  {
   "cell_type": "code",
   "execution_count": 11,
   "metadata": {
    "vscode": {
     "languageId": "shellscript"
    }
   },
   "outputs": [
    {
     "name": "stdout",
     "output_type": "stream",
     "text": [
      "Show the shell environment variables, key on left of equal value on right\n",
      "\n",
      "NVM_INC=/Users/rhearajashekhar/.nvm/versions/node/v22.5.0/include/node\n",
      "rvm_bin_path=/Users/rhearajashekhar/.rvm/bin\n",
      "VSCODE_CRASH_REPORTER_PROCESS_TYPE=extensionHost\n",
      "NVM_CD_FLAGS=-q\n",
      "TERM=xterm-color\n",
      "SHELL=/bin/zsh\n",
      "CLICOLOR=1\n",
      "TMPDIR=/var/folders/k5/9p51wpxs2wxdyptwcngz8h540000gn/T/\n",
      "HOMEBREW_REPOSITORY=/opt/homebrew\n",
      "PYTHONUNBUFFERED=1\n",
      "ORIGINAL_XDG_CURRENT_DESKTOP=undefined\n",
      "MallocNanoZone=0\n",
      "PYDEVD_USE_FRAME_EVAL=NO\n",
      "PYTHONIOENCODING=utf-8\n",
      "USER=rhearajashekhar\n",
      "NVM_DIR=/Users/rhearajashekhar/.nvm\n",
      "COMMAND_MODE=unix2003\n",
      "rvm_path=/Users/rhearajashekhar/.rvm\n",
      "SSH_AUTH_SOCK=/private/tmp/com.apple.launchd.GKQVq5KhIf/Listeners\n",
      "__CF_USER_TEXT_ENCODING=0x1F5:0x0:0x0\n",
      "PAGER=cat\n",
      "VIRTUAL_ENV=/Users/rhearajashekhar/vscode/rheaStudent/venv\n",
      "ELECTRON_RUN_AS_NODE=1\n",
      "VSCODE_AMD_ENTRYPOINT=vs/workbench/api/node/extensionHostProcess\n",
      "rvm_prefix=/Users/rhearajashekhar\n",
      "PATH=/Users/rhearajashekhar/vscode/rheaStudent/venv/bin:/Users/rhearajashekhar/.rbenv/shims:/Users/rhearajashekhar/.rbenv/bin:/opt/homebrew/bin:/opt/homebrew/sbin:/Users/rhearajashekhar/.nvm/versions/node/v22.5.0/bin:/Library/Frameworks/Python.framework/Versions/3.12/bin:/usr/local/bin:/System/Cryptexes/App/usr/bin:/usr/bin:/bin:/usr/sbin:/sbin:/var/run/com.apple.security.cryptexd/codex.system/bootstrap/usr/local/bin:/var/run/com.apple.security.cryptexd/codex.system/bootstrap/usr/bin:/var/run/com.apple.security.cryptexd/codex.system/bootstrap/usr/appleinternal/bin:/Users/rhearajashekhar/.rvm/bin:/Users/rhearajashekhar/.rvm/bin\n",
      "__CFBundleIdentifier=com.microsoft.VSCode\n",
      "PWD=/Users/rhearajashekhar/vscode/rheaStudent/_notebooks/Foundation/B-tools_and_equipment\n",
      "VSCODE_HANDLES_UNCAUGHT_ERRORS=true\n",
      "MPLBACKEND=module://matplotlib_inline.backend_inline\n",
      "PYTHON_FROZEN_MODULES=on\n",
      "XPC_FLAGS=0x0\n",
      "FORCE_COLOR=1\n",
      "RBENV_SHELL=zsh\n",
      "XPC_SERVICE_NAME=0\n",
      "rvm_version=1.29.12 (latest)\n",
      "SHLVL=2\n",
      "HOME=/Users/rhearajashekhar\n",
      "VSCODE_NLS_CONFIG={\"locale\":\"en-us\",\"osLocale\":\"en-us\",\"availableLanguages\":{},\"_languagePackSupport\":true}\n",
      "PYDEVD_IPYTHON_COMPATIBLE_DEBUGGING=1\n",
      "HOMEBREW_PREFIX=/opt/homebrew\n",
      "LOGNAME=rhearajashekhar\n",
      "LC_CTYPE=UTF-8\n",
      "VSCODE_IPC_HOOK=/Users/rhearajashekhar/Library/Application Support/Code/1.90-main.sock\n",
      "VSCODE_CODE_CACHE_PATH=/Users/rhearajashekhar/Library/Application Support/Code/CachedData/89de5a8d4d6205e5b11647eb6a74844ca23d2573\n",
      "CLICOLOR_FORCE=1\n",
      "NVM_BIN=/Users/rhearajashekhar/.nvm/versions/node/v22.5.0/bin\n",
      "VSCODE_PID=57578\n",
      "INFOPATH=/opt/homebrew/share/info:\n",
      "HOMEBREW_CELLAR=/opt/homebrew/Cellar\n",
      "GIT_PAGER=cat\n",
      "VSCODE_L10N_BUNDLE_LOCATION=\n",
      "VSCODE_CWD=/\n",
      "VIRTUAL_ENV_PROMPT=(venv) \n",
      "_=/usr/bin/env\n"
     ]
    }
   ],
   "source": [
    "%%script bash\n",
    "\n",
    "# This command has no dependencies\n",
    "\n",
    "echo \"Show the shell environment variables, key on left of equal value on right\"\n",
    "echo \"\"\n",
    "\n",
    "env"
   ]
  },
  {
   "cell_type": "code",
   "execution_count": 12,
   "metadata": {
    "vscode": {
     "languageId": "shellscript"
    }
   },
   "outputs": [
    {
     "name": "stderr",
     "output_type": "stream",
     "text": [
      "bash: line 5: cd: /Users/rhearajashekhar/rhearajashekhar/vscode/rheaStudent: No such file or directory\n"
     ]
    },
    {
     "name": "stdout",
     "output_type": "stream",
     "text": [
      "\n",
      "show the secrets of .git config file\n"
     ]
    },
    {
     "name": "stderr",
     "output_type": "stream",
     "text": [
      "bash: line 9: cd: .git: No such file or directory\n",
      "ls: config: No such file or directory\n"
     ]
    },
    {
     "name": "stdout",
     "output_type": "stream",
     "text": [
      "\n",
      "look at config file\n"
     ]
    },
    {
     "name": "stderr",
     "output_type": "stream",
     "text": [
      "cat: config: No such file or directory\n"
     ]
    },
    {
     "ename": "CalledProcessError",
     "evalue": "Command 'b'\\n# Extract saved variables\\nsource /tmp/variables.sh\\n\\ncd $project\\n\\necho \"\"\\necho \"show the secrets of .git config file\"\\ncd .git\\nls -l config\\n\\necho \"\"\\necho \"look at config file\"\\ncat config\\n'' returned non-zero exit status 1.",
     "output_type": "error",
     "traceback": [
      "\u001b[0;31m---------------------------------------------------------------------------\u001b[0m",
      "\u001b[0;31mCalledProcessError\u001b[0m                        Traceback (most recent call last)",
      "Cell \u001b[0;32mIn[12], line 1\u001b[0m\n\u001b[0;32m----> 1\u001b[0m \u001b[43mget_ipython\u001b[49m\u001b[43m(\u001b[49m\u001b[43m)\u001b[49m\u001b[38;5;241;43m.\u001b[39;49m\u001b[43mrun_cell_magic\u001b[49m\u001b[43m(\u001b[49m\u001b[38;5;124;43m'\u001b[39;49m\u001b[38;5;124;43mscript\u001b[39;49m\u001b[38;5;124;43m'\u001b[39;49m\u001b[43m,\u001b[49m\u001b[43m \u001b[49m\u001b[38;5;124;43m'\u001b[39;49m\u001b[38;5;124;43mbash\u001b[39;49m\u001b[38;5;124;43m'\u001b[39;49m\u001b[43m,\u001b[49m\u001b[43m \u001b[49m\u001b[38;5;124;43m'\u001b[39;49m\u001b[38;5;130;43;01m\\n\u001b[39;49;00m\u001b[38;5;124;43m# Extract saved variables\u001b[39;49m\u001b[38;5;130;43;01m\\n\u001b[39;49;00m\u001b[38;5;124;43msource /tmp/variables.sh\u001b[39;49m\u001b[38;5;130;43;01m\\n\u001b[39;49;00m\u001b[38;5;130;43;01m\\n\u001b[39;49;00m\u001b[38;5;124;43mcd $project\u001b[39;49m\u001b[38;5;130;43;01m\\n\u001b[39;49;00m\u001b[38;5;130;43;01m\\n\u001b[39;49;00m\u001b[38;5;124;43mecho \u001b[39;49m\u001b[38;5;124;43m\"\u001b[39;49m\u001b[38;5;124;43m\"\u001b[39;49m\u001b[38;5;130;43;01m\\n\u001b[39;49;00m\u001b[38;5;124;43mecho \u001b[39;49m\u001b[38;5;124;43m\"\u001b[39;49m\u001b[38;5;124;43mshow the secrets of .git config file\u001b[39;49m\u001b[38;5;124;43m\"\u001b[39;49m\u001b[38;5;130;43;01m\\n\u001b[39;49;00m\u001b[38;5;124;43mcd .git\u001b[39;49m\u001b[38;5;130;43;01m\\n\u001b[39;49;00m\u001b[38;5;124;43mls -l config\u001b[39;49m\u001b[38;5;130;43;01m\\n\u001b[39;49;00m\u001b[38;5;130;43;01m\\n\u001b[39;49;00m\u001b[38;5;124;43mecho \u001b[39;49m\u001b[38;5;124;43m\"\u001b[39;49m\u001b[38;5;124;43m\"\u001b[39;49m\u001b[38;5;130;43;01m\\n\u001b[39;49;00m\u001b[38;5;124;43mecho \u001b[39;49m\u001b[38;5;124;43m\"\u001b[39;49m\u001b[38;5;124;43mlook at config file\u001b[39;49m\u001b[38;5;124;43m\"\u001b[39;49m\u001b[38;5;130;43;01m\\n\u001b[39;49;00m\u001b[38;5;124;43mcat config\u001b[39;49m\u001b[38;5;130;43;01m\\n\u001b[39;49;00m\u001b[38;5;124;43m'\u001b[39;49m\u001b[43m)\u001b[49m\n",
      "File \u001b[0;32m~/vscode/rheaStudent/venv/lib/python3.12/site-packages/IPython/core/interactiveshell.py:2541\u001b[0m, in \u001b[0;36mInteractiveShell.run_cell_magic\u001b[0;34m(self, magic_name, line, cell)\u001b[0m\n\u001b[1;32m   2539\u001b[0m \u001b[38;5;28;01mwith\u001b[39;00m \u001b[38;5;28mself\u001b[39m\u001b[38;5;241m.\u001b[39mbuiltin_trap:\n\u001b[1;32m   2540\u001b[0m     args \u001b[38;5;241m=\u001b[39m (magic_arg_s, cell)\n\u001b[0;32m-> 2541\u001b[0m     result \u001b[38;5;241m=\u001b[39m \u001b[43mfn\u001b[49m\u001b[43m(\u001b[49m\u001b[38;5;241;43m*\u001b[39;49m\u001b[43margs\u001b[49m\u001b[43m,\u001b[49m\u001b[43m \u001b[49m\u001b[38;5;241;43m*\u001b[39;49m\u001b[38;5;241;43m*\u001b[39;49m\u001b[43mkwargs\u001b[49m\u001b[43m)\u001b[49m\n\u001b[1;32m   2543\u001b[0m \u001b[38;5;66;03m# The code below prevents the output from being displayed\u001b[39;00m\n\u001b[1;32m   2544\u001b[0m \u001b[38;5;66;03m# when using magics with decorator @output_can_be_silenced\u001b[39;00m\n\u001b[1;32m   2545\u001b[0m \u001b[38;5;66;03m# when the last Python token in the expression is a ';'.\u001b[39;00m\n\u001b[1;32m   2546\u001b[0m \u001b[38;5;28;01mif\u001b[39;00m \u001b[38;5;28mgetattr\u001b[39m(fn, magic\u001b[38;5;241m.\u001b[39mMAGIC_OUTPUT_CAN_BE_SILENCED, \u001b[38;5;28;01mFalse\u001b[39;00m):\n",
      "File \u001b[0;32m~/vscode/rheaStudent/venv/lib/python3.12/site-packages/IPython/core/magics/script.py:315\u001b[0m, in \u001b[0;36mScriptMagics.shebang\u001b[0;34m(self, line, cell)\u001b[0m\n\u001b[1;32m    310\u001b[0m \u001b[38;5;28;01mif\u001b[39;00m args\u001b[38;5;241m.\u001b[39mraise_error \u001b[38;5;129;01mand\u001b[39;00m p\u001b[38;5;241m.\u001b[39mreturncode \u001b[38;5;241m!=\u001b[39m \u001b[38;5;241m0\u001b[39m:\n\u001b[1;32m    311\u001b[0m     \u001b[38;5;66;03m# If we get here and p.returncode is still None, we must have\u001b[39;00m\n\u001b[1;32m    312\u001b[0m     \u001b[38;5;66;03m# killed it but not yet seen its return code. We don't wait for it,\u001b[39;00m\n\u001b[1;32m    313\u001b[0m     \u001b[38;5;66;03m# in case it's stuck in uninterruptible sleep. -9 = SIGKILL\u001b[39;00m\n\u001b[1;32m    314\u001b[0m     rc \u001b[38;5;241m=\u001b[39m p\u001b[38;5;241m.\u001b[39mreturncode \u001b[38;5;129;01mor\u001b[39;00m \u001b[38;5;241m-\u001b[39m\u001b[38;5;241m9\u001b[39m\n\u001b[0;32m--> 315\u001b[0m     \u001b[38;5;28;01mraise\u001b[39;00m CalledProcessError(rc, cell)\n",
      "\u001b[0;31mCalledProcessError\u001b[0m: Command 'b'\\n# Extract saved variables\\nsource /tmp/variables.sh\\n\\ncd $project\\n\\necho \"\"\\necho \"show the secrets of .git config file\"\\ncd .git\\nls -l config\\n\\necho \"\"\\necho \"look at config file\"\\ncat config\\n'' returned non-zero exit status 1."
     ]
    }
   ],
   "source": [
    "%%script bash\n",
    "\n",
    "# Extract saved variables\n",
    "source /tmp/variables.sh\n",
    "\n",
    "cd $project\n",
    "\n",
    "echo \"\"\n",
    "echo \"show the secrets of .git config file\"\n",
    "cd .git\n",
    "ls -l config\n",
    "\n",
    "echo \"\"\n",
    "echo \"look at config file\"\n",
    "cat config"
   ]
  },
  {
   "attachments": {},
   "cell_type": "markdown",
   "metadata": {},
   "source": [
    "## Advanced Shell project\n",
    "\n",
    "> This example was requested by a student (Jun Lim, CSA). The request was to make a Jupyter file using bash; I adapted the request to markdown. This type of thought will have great extrapolation to coding and possibilities of using Lists, Arrays, or APIs to build user interfaces. JavaScript is a language where building HTML is very common.\n",
    "\n",
    "> To get more interesting output from the terminal, this will require using something like mdless (https://github.com/ttscoff/mdless). This enables seeing markdown in rendered format.\n",
    "- On Desktop [Install PKG from MacPorts](https://www.macports.org/install.php)\n",
    "- In Terminal on MacOS\n",
    "    - [Install ncurses](https://ports.macports.org/port/ncurses/)\n",
    "    - ```gem install mdless```\n",
    "    \n",
    "> Output of the example is much nicer in \"Jupyter\"\n",
    "\n",
    "This is starting the process of documentation."
   ]
  },
  {
   "cell_type": "code",
   "execution_count": null,
   "metadata": {
    "vscode": {
     "languageId": "shellscript"
    }
   },
   "outputs": [
    {
     "name": "stdout",
     "output_type": "stream",
     "text": [
      "\n",
      "File listing and status\n",
      "-rw-r--r--@ 1 rhearajashekhar  wheel  808 Aug 27 08:53 sample.md\n",
      "      15     132     808 sample.md\n"
     ]
    },
    {
     "name": "stderr",
     "output_type": "stream",
     "text": [
      "bash: line 36: mdless: command not found\n"
     ]
    }
   ],
   "source": [
    "%%script bash\n",
    "\n",
    "# This example has an error in VSCode; it runs best on Jupyter\n",
    "cd /tmp\n",
    "\n",
    "file=\"sample.md\"\n",
    "if [ -f \"$file\" ]; then\n",
    "    rm $file\n",
    "fi\n",
    "\n",
    "# Create a markdown file using tee and here document (<<EOF)\n",
    "tee -a $file >/dev/null <<EOF\n",
    "# Show Generated Markdown\n",
    "This introductory paragraph and this line and the title above are generated using tee with the standard input (<<) redirection operator.\n",
    "- This bulleted element is still part of the tee body.\n",
    "EOF\n",
    "\n",
    "# Append additional lines to the markdown file using echo and redirection (>>)\n",
    "echo \"- This bulleted element and lines below are generated using echo with standard output (>>) redirection operator.\" >> $file\n",
    "echo \"- The list definition, as is, is using space to separate lines. Thus the use of commas and hyphens in output.\" >> $file\n",
    "\n",
    "# Define an array of actions and their descriptions\n",
    "actions=(\"ls,list-directory\" \"cd,change-directory\" \"pwd,present-working-directory\" \"if-then-fi,test-condition\" \"env,bash-environment-variables\" \"cat,view-file-contents\" \"tee,write-to-output\" \"echo,display-content-of-string\" \"echo_text_>\\$file,write-content-to-file\" \"echo_text_>>\\$file,append-content-to-file\")\n",
    "\n",
    "# Loop through the actions array and append each action to the markdown file\n",
    "for action in ${actions[@]}; do\n",
    "  action=${action//-/ }  # Convert dash to space\n",
    "  action=${action//,/: } # Convert comma to colon\n",
    "  action=${action//_text_/ \\\"sample text\\\" } # Convert _text_ to \"sample text\", note escape character \\ to avoid \"\" having meaning\n",
    "  echo \"    - ${action//-/ }\" >> $file  # Append action to file\n",
    "done\n",
    "\n",
    "echo \"\"\n",
    "echo \"File listing and status\"\n",
    "ls -l $file # List file details\n",
    "wc $file   # Show word count\n",
    "mdless $file  # Render markdown from terminal (requires mdless installation)\n",
    "\n",
    "rm $file  # Clean up temporary file"
   ]
  },
  {
   "cell_type": "markdown",
   "metadata": {
    "vscode": {
     "languageId": "shellscript"
    }
   },
   "source": [
    "## Display Shell commands help using `man`\n",
    "\n",
    "> The previous example used a markdown file to store a list of actions and their descriptions. This example uses the `man` command to generate a markdown file with descriptions of the commands. The markdown file is then displayed using `mdless`.\n",
    "\n",
    "In coding, we should try to get data from the content creators instead of creating it on our own. This approach has several benefits:\n",
    "- **Accuracy**: Descriptions from `man` pages are authoritative and accurate, as they come directly from the documentation provided by the command's developers.\n",
    "- **Consistency**: Automatically generating descriptions ensures consistency in formatting and terminology.\n",
    "- **Efficiency**: It saves time and effort, especially when dealing with a large number of commands.\n",
    "- **Up-to-date Information**: `man` pages are regularly updated with the latest information, ensuring that the descriptions are current."
   ]
  },
  {
   "cell_type": "code",
   "execution_count": null,
   "metadata": {
    "vscode": {
     "languageId": "shellscript"
    }
   },
   "outputs": [
    {
     "name": "stderr",
     "output_type": "stream",
     "text": [
      "No manual entry for wget\n"
     ]
    },
    {
     "name": "stdout",
     "output_type": "stream",
     "text": [
      "\n",
      "File listing and status\n",
      "-rw-r--r--@ 1 rhearajashekhar  wheel  919 Aug 27 08:53 sample.md\n",
      "      15     145     919 sample.md\n"
     ]
    },
    {
     "name": "stderr",
     "output_type": "stream",
     "text": [
      "bash: line 37: mdless: command not found\n"
     ]
    }
   ],
   "source": [
    "%%script bash\n",
    "\n",
    "# This example has an error in VSCode; it runs best on Jupyter\n",
    "cd /tmp\n",
    "\n",
    "file=\"sample.md\"\n",
    "if [ -f \"$file\" ]; then\n",
    "    rm $file\n",
    "fi\n",
    "\n",
    "# Set locale to C to avoid locale-related errors\n",
    "export LC_ALL=C\n",
    "\n",
    "# Create a markdown file using tee and here document (<<EOF)\n",
    "tee -a $file >/dev/null <<EOF\n",
    "# Show Generated Markdown\n",
    "This introductory paragraph and this line and the title above are generated using tee with the standard input (<<) redirection operator.\n",
    "- This bulleted element is still part of the tee body.\n",
    "EOF\n",
    "\n",
    "# Append additional lines to the markdown file using echo and redirection (>>)\n",
    "echo \"- This bulleted element and lines below are generated using echo with standard output (>>) redirection operator.\" >> $file\n",
    "echo \"- The list definition, as is, is using space to separate lines. Thus the use of commas and hyphens in output.\" >> $file\n",
    "\n",
    "# Define an array of commands\n",
    "commands=(\"ls\" \"cat\" \"tail\" \"pwd\" \"env\" \"grep\" \"awk\" \"sed\" \"curl\" \"wget\")\n",
    "\n",
    "# Loop through the commands array and append each command description to the markdown file\n",
    "for cmd in ${commands[@]}; do\n",
    "  description=$(man $cmd | col -b | awk '/^NAME/{getline; print}')\n",
    "  echo \"    - $description\" >> $file\n",
    "done\n",
    "\n",
    "echo \"\"\n",
    "echo \"File listing and status\"\n",
    "ls -l $file # List file details\n",
    "wc $file   # Show word count\n",
    "mdless $file  # Render markdown from terminal (requires mdless installation)\n",
    "\n",
    "rm $file  # Clean up temporary file"
   ]
  }
 ],
 "metadata": {
  "kernelspec": {
   "display_name": "Python 3.10.6 64-bit",
   "language": "python",
   "name": "python3"
  },
  "language_info": {
   "codemirror_mode": {
    "name": "ipython",
    "version": 3
   },
   "file_extension": ".py",
   "mimetype": "text/x-python",
   "name": "python",
   "nbconvert_exporter": "python",
   "pygments_lexer": "ipython3",
   "version": "3.12.4"
  },
  "vscode": {
   "interpreter": {
    "hash": "aee8b7b246df8f9039afb4144a1f6fd8d2ca17a180786b69acc140d282b71a49"
   }
  }
 },
 "nbformat": 4,
 "nbformat_minor": 2
}
